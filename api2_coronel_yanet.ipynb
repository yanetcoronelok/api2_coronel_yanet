{
 "cells": [
  {
   "cell_type": "code",
   "execution_count": 1,
   "metadata": {},
   "outputs": [],
   "source": [
    "import pandas as pd"
   ]
  },
  {
   "cell_type": "code",
   "execution_count": 2,
   "metadata": {},
   "outputs": [],
   "source": [
    "import numpy as np"
   ]
  },
  {
   "cell_type": "code",
   "execution_count": 3,
   "metadata": {},
   "outputs": [],
   "source": [
    "import os"
   ]
  },
  {
   "cell_type": "code",
   "execution_count": 4,
   "metadata": {},
   "outputs": [
    {
     "data": {
      "text/html": [
       "<div>\n",
       "<style scoped>\n",
       "    .dataframe tbody tr th:only-of-type {\n",
       "        vertical-align: middle;\n",
       "    }\n",
       "\n",
       "    .dataframe tbody tr th {\n",
       "        vertical-align: top;\n",
       "    }\n",
       "\n",
       "    .dataframe thead th {\n",
       "        text-align: right;\n",
       "    }\n",
       "</style>\n",
       "<table border=\"1\" class=\"dataframe\">\n",
       "  <thead>\n",
       "    <tr style=\"text-align: right;\">\n",
       "      <th></th>\n",
       "      <th>provincia</th>\n",
       "      <th>anio</th>\n",
       "      <th>poblacion_total</th>\n",
       "      <th>poblacion_varones</th>\n",
       "      <th>poblacion_mujeres</th>\n",
       "    </tr>\n",
       "  </thead>\n",
       "  <tbody>\n",
       "    <tr>\n",
       "      <th>0</th>\n",
       "      <td>Total País</td>\n",
       "      <td>2010</td>\n",
       "      <td>40788453</td>\n",
       "      <td>19940704</td>\n",
       "      <td>20847749</td>\n",
       "    </tr>\n",
       "    <tr>\n",
       "      <th>1</th>\n",
       "      <td>Total País</td>\n",
       "      <td>2011</td>\n",
       "      <td>41261490</td>\n",
       "      <td>20180791</td>\n",
       "      <td>21080699</td>\n",
       "    </tr>\n",
       "    <tr>\n",
       "      <th>2</th>\n",
       "      <td>Total País</td>\n",
       "      <td>2012</td>\n",
       "      <td>41733271</td>\n",
       "      <td>20420391</td>\n",
       "      <td>21312880</td>\n",
       "    </tr>\n",
       "    <tr>\n",
       "      <th>3</th>\n",
       "      <td>Total País</td>\n",
       "      <td>2013</td>\n",
       "      <td>42202935</td>\n",
       "      <td>20659037</td>\n",
       "      <td>21543898</td>\n",
       "    </tr>\n",
       "    <tr>\n",
       "      <th>4</th>\n",
       "      <td>Total País</td>\n",
       "      <td>2014</td>\n",
       "      <td>42669500</td>\n",
       "      <td>20896203</td>\n",
       "      <td>21773297</td>\n",
       "    </tr>\n",
       "  </tbody>\n",
       "</table>\n",
       "</div>"
      ],
      "text/plain": [
       "    provincia  anio  poblacion_total  poblacion_varones  poblacion_mujeres\n",
       "0  Total País  2010         40788453           19940704           20847749\n",
       "1  Total País  2011         41261490           20180791           21080699\n",
       "2  Total País  2012         41733271           20420391           21312880\n",
       "3  Total País  2013         42202935           20659037           21543898\n",
       "4  Total País  2014         42669500           20896203           21773297"
      ]
     },
     "execution_count": 4,
     "metadata": {},
     "output_type": "execute_result"
    }
   ],
   "source": [
    "poblacion = pd.read_csv(\"poblacion.csv\", encoding=\"latin-1\")\n",
    "poblacion.head()"
   ]
  },
  {
   "cell_type": "code",
   "execution_count": 5,
   "metadata": {},
   "outputs": [
    {
     "data": {
      "text/html": [
       "<div>\n",
       "<style scoped>\n",
       "    .dataframe tbody tr th:only-of-type {\n",
       "        vertical-align: middle;\n",
       "    }\n",
       "\n",
       "    .dataframe tbody tr th {\n",
       "        vertical-align: top;\n",
       "    }\n",
       "\n",
       "    .dataframe thead th {\n",
       "        text-align: right;\n",
       "    }\n",
       "</style>\n",
       "<table border=\"1\" class=\"dataframe\">\n",
       "  <thead>\n",
       "    <tr style=\"text-align: right;\">\n",
       "      <th></th>\n",
       "      <th>provincia_id</th>\n",
       "      <th>provincia</th>\n",
       "      <th>hogares</th>\n",
       "      <th>viviendas_particulares</th>\n",
       "      <th>viviendas_particulares_habitadas</th>\n",
       "      <th>superficie_km2</th>\n",
       "    </tr>\n",
       "  </thead>\n",
       "  <tbody>\n",
       "    <tr>\n",
       "      <th>0</th>\n",
       "      <td>2</td>\n",
       "      <td>Capital Federal</td>\n",
       "      <td>1150134</td>\n",
       "      <td>1423973</td>\n",
       "      <td>1082998</td>\n",
       "      <td>200</td>\n",
       "    </tr>\n",
       "    <tr>\n",
       "      <th>1</th>\n",
       "      <td>6</td>\n",
       "      <td>Buenos Aires</td>\n",
       "      <td>4789484</td>\n",
       "      <td>5377786</td>\n",
       "      <td>4425193</td>\n",
       "      <td>307571</td>\n",
       "    </tr>\n",
       "    <tr>\n",
       "      <th>2</th>\n",
       "      <td>10</td>\n",
       "      <td>Catamarca</td>\n",
       "      <td>96001</td>\n",
       "      <td>113634</td>\n",
       "      <td>89376</td>\n",
       "      <td>102602</td>\n",
       "    </tr>\n",
       "    <tr>\n",
       "      <th>3</th>\n",
       "      <td>14</td>\n",
       "      <td>Córdoba</td>\n",
       "      <td>1031843</td>\n",
       "      <td>1232211</td>\n",
       "      <td>978553</td>\n",
       "      <td>165321</td>\n",
       "    </tr>\n",
       "    <tr>\n",
       "      <th>4</th>\n",
       "      <td>18</td>\n",
       "      <td>Corrientes</td>\n",
       "      <td>267797</td>\n",
       "      <td>292644</td>\n",
       "      <td>248844</td>\n",
       "      <td>88199</td>\n",
       "    </tr>\n",
       "  </tbody>\n",
       "</table>\n",
       "</div>"
      ],
      "text/plain": [
       "   provincia_id        provincia  hogares  viviendas_particulares  \\\n",
       "0             2  Capital Federal  1150134                 1423973   \n",
       "1             6     Buenos Aires  4789484                 5377786   \n",
       "2            10        Catamarca    96001                  113634   \n",
       "3            14          Córdoba  1031843                 1232211   \n",
       "4            18       Corrientes   267797                  292644   \n",
       "\n",
       "   viviendas_particulares_habitadas  superficie_km2  \n",
       "0                           1082998             200  \n",
       "1                           4425193          307571  \n",
       "2                             89376          102602  \n",
       "3                            978553          165321  \n",
       "4                            248844           88199  "
      ]
     },
     "execution_count": 5,
     "metadata": {},
     "output_type": "execute_result"
    }
   ],
   "source": [
    "hogares_viviendas = pd.read_csv(\"hogares_viviendas_superficie.csv\", encoding=\"latin-1\")\n",
    "hogares_viviendas.head()"
   ]
  },
  {
   "cell_type": "code",
   "execution_count": 6,
   "metadata": {},
   "outputs": [
    {
     "data": {
      "text/html": [
       "<div>\n",
       "<style scoped>\n",
       "    .dataframe tbody tr th:only-of-type {\n",
       "        vertical-align: middle;\n",
       "    }\n",
       "\n",
       "    .dataframe tbody tr th {\n",
       "        vertical-align: top;\n",
       "    }\n",
       "\n",
       "    .dataframe thead th {\n",
       "        text-align: right;\n",
       "    }\n",
       "</style>\n",
       "<table border=\"1\" class=\"dataframe\">\n",
       "  <thead>\n",
       "    <tr style=\"text-align: right;\">\n",
       "      <th></th>\n",
       "      <th>provincia</th>\n",
       "      <th>anio</th>\n",
       "      <th>mujeres</th>\n",
       "      <th>varones</th>\n",
       "    </tr>\n",
       "  </thead>\n",
       "  <tbody>\n",
       "    <tr>\n",
       "      <th>0</th>\n",
       "      <td>Buenos Aires</td>\n",
       "      <td>2015</td>\n",
       "      <td>80.22</td>\n",
       "      <td>73.54</td>\n",
       "    </tr>\n",
       "    <tr>\n",
       "      <th>1</th>\n",
       "      <td>Buenos Aires</td>\n",
       "      <td>2020</td>\n",
       "      <td>81.34</td>\n",
       "      <td>74.74</td>\n",
       "    </tr>\n",
       "    <tr>\n",
       "      <th>2</th>\n",
       "      <td>Buenos Aires</td>\n",
       "      <td>2025</td>\n",
       "      <td>82.32</td>\n",
       "      <td>75.80</td>\n",
       "    </tr>\n",
       "    <tr>\n",
       "      <th>3</th>\n",
       "      <td>Buenos Aires</td>\n",
       "      <td>2030</td>\n",
       "      <td>83.20</td>\n",
       "      <td>76.76</td>\n",
       "    </tr>\n",
       "    <tr>\n",
       "      <th>4</th>\n",
       "      <td>Buenos Aires</td>\n",
       "      <td>2035</td>\n",
       "      <td>83.98</td>\n",
       "      <td>77.60</td>\n",
       "    </tr>\n",
       "  </tbody>\n",
       "</table>\n",
       "</div>"
      ],
      "text/plain": [
       "      provincia  anio  mujeres  varones\n",
       "0  Buenos Aires  2015    80.22    73.54\n",
       "1  Buenos Aires  2020    81.34    74.74\n",
       "2  Buenos Aires  2025    82.32    75.80\n",
       "3  Buenos Aires  2030    83.20    76.76\n",
       "4  Buenos Aires  2035    83.98    77.60"
      ]
     },
     "execution_count": 6,
     "metadata": {},
     "output_type": "execute_result"
    }
   ],
   "source": [
    "esperanza_de_vida = pd.read_csv(\"esperanza_de_vida.csv\", encoding=\"latin-1\")\n",
    "esperanza_de_vida.head()"
   ]
  },
  {
   "cell_type": "code",
   "execution_count": 7,
   "metadata": {},
   "outputs": [
    {
     "data": {
      "text/html": [
       "<div>\n",
       "<style scoped>\n",
       "    .dataframe tbody tr th:only-of-type {\n",
       "        vertical-align: middle;\n",
       "    }\n",
       "\n",
       "    .dataframe tbody tr th {\n",
       "        vertical-align: top;\n",
       "    }\n",
       "\n",
       "    .dataframe thead th {\n",
       "        text-align: right;\n",
       "    }\n",
       "</style>\n",
       "<table border=\"1\" class=\"dataframe\">\n",
       "  <thead>\n",
       "    <tr style=\"text-align: right;\">\n",
       "      <th></th>\n",
       "      <th>provincia</th>\n",
       "      <th>anio</th>\n",
       "      <th>poblacion_total</th>\n",
       "      <th>poblacion_varones</th>\n",
       "      <th>poblacion_mujeres</th>\n",
       "    </tr>\n",
       "  </thead>\n",
       "  <tbody>\n",
       "    <tr>\n",
       "      <th>770</th>\n",
       "      <td>Tierra del Fuego</td>\n",
       "      <td>2036</td>\n",
       "      <td>241593</td>\n",
       "      <td>122567</td>\n",
       "      <td>119026</td>\n",
       "    </tr>\n",
       "    <tr>\n",
       "      <th>771</th>\n",
       "      <td>Tierra del Fuego</td>\n",
       "      <td>2037</td>\n",
       "      <td>245734</td>\n",
       "      <td>124625</td>\n",
       "      <td>121109</td>\n",
       "    </tr>\n",
       "    <tr>\n",
       "      <th>772</th>\n",
       "      <td>Tierra del Fuego</td>\n",
       "      <td>2038</td>\n",
       "      <td>249853</td>\n",
       "      <td>126670</td>\n",
       "      <td>123183</td>\n",
       "    </tr>\n",
       "    <tr>\n",
       "      <th>773</th>\n",
       "      <td>Tierra del Fuego</td>\n",
       "      <td>2039</td>\n",
       "      <td>253948</td>\n",
       "      <td>128702</td>\n",
       "      <td>125246</td>\n",
       "    </tr>\n",
       "    <tr>\n",
       "      <th>774</th>\n",
       "      <td>Tierra del Fuego</td>\n",
       "      <td>2040</td>\n",
       "      <td>258020</td>\n",
       "      <td>130721</td>\n",
       "      <td>127299</td>\n",
       "    </tr>\n",
       "  </tbody>\n",
       "</table>\n",
       "</div>"
      ],
      "text/plain": [
       "            provincia  anio  poblacion_total  poblacion_varones  \\\n",
       "770  Tierra del Fuego  2036           241593             122567   \n",
       "771  Tierra del Fuego  2037           245734             124625   \n",
       "772  Tierra del Fuego  2038           249853             126670   \n",
       "773  Tierra del Fuego  2039           253948             128702   \n",
       "774  Tierra del Fuego  2040           258020             130721   \n",
       "\n",
       "     poblacion_mujeres  \n",
       "770             119026  \n",
       "771             121109  \n",
       "772             123183  \n",
       "773             125246  \n",
       "774             127299  "
      ]
     },
     "execution_count": 7,
     "metadata": {},
     "output_type": "execute_result"
    }
   ],
   "source": [
    "poblacion.tail()"
   ]
  },
  {
   "cell_type": "code",
   "execution_count": 10,
   "metadata": {},
   "outputs": [
    {
     "data": {
      "text/html": [
       "<div>\n",
       "<style scoped>\n",
       "    .dataframe tbody tr th:only-of-type {\n",
       "        vertical-align: middle;\n",
       "    }\n",
       "\n",
       "    .dataframe tbody tr th {\n",
       "        vertical-align: top;\n",
       "    }\n",
       "\n",
       "    .dataframe thead th {\n",
       "        text-align: right;\n",
       "    }\n",
       "</style>\n",
       "<table border=\"1\" class=\"dataframe\">\n",
       "  <thead>\n",
       "    <tr style=\"text-align: right;\">\n",
       "      <th></th>\n",
       "      <th>provincia_id</th>\n",
       "      <th>provincia</th>\n",
       "      <th>hogares</th>\n",
       "      <th>viviendas_particulares</th>\n",
       "      <th>viviendas_particulares_habitadas</th>\n",
       "      <th>superficie_km2</th>\n",
       "    </tr>\n",
       "  </thead>\n",
       "  <tbody>\n",
       "    <tr>\n",
       "      <th>19</th>\n",
       "      <td>78</td>\n",
       "      <td>Santa Cruz</td>\n",
       "      <td>81796</td>\n",
       "      <td>93881</td>\n",
       "      <td>76233</td>\n",
       "      <td>243943</td>\n",
       "    </tr>\n",
       "    <tr>\n",
       "      <th>20</th>\n",
       "      <td>82</td>\n",
       "      <td>Santa Fe</td>\n",
       "      <td>1023777</td>\n",
       "      <td>1143651</td>\n",
       "      <td>948369</td>\n",
       "      <td>133007</td>\n",
       "    </tr>\n",
       "    <tr>\n",
       "      <th>21</th>\n",
       "      <td>86</td>\n",
       "      <td>Santiago del Estero</td>\n",
       "      <td>218025</td>\n",
       "      <td>242034</td>\n",
       "      <td>197906</td>\n",
       "      <td>136351</td>\n",
       "    </tr>\n",
       "    <tr>\n",
       "      <th>22</th>\n",
       "      <td>90</td>\n",
       "      <td>Tucumán</td>\n",
       "      <td>368538</td>\n",
       "      <td>396040</td>\n",
       "      <td>335821</td>\n",
       "      <td>22524</td>\n",
       "    </tr>\n",
       "    <tr>\n",
       "      <th>23</th>\n",
       "      <td>94</td>\n",
       "      <td>Tierra del Fuego</td>\n",
       "      <td>38956</td>\n",
       "      <td>43360</td>\n",
       "      <td>36689</td>\n",
       "      <td>1002445</td>\n",
       "    </tr>\n",
       "  </tbody>\n",
       "</table>\n",
       "</div>"
      ],
      "text/plain": [
       "    provincia_id            provincia  hogares  viviendas_particulares  \\\n",
       "19            78           Santa Cruz    81796                   93881   \n",
       "20            82             Santa Fe  1023777                 1143651   \n",
       "21            86  Santiago del Estero   218025                  242034   \n",
       "22            90              Tucumán   368538                  396040   \n",
       "23            94     Tierra del Fuego    38956                   43360   \n",
       "\n",
       "    viviendas_particulares_habitadas  superficie_km2  \n",
       "19                             76233          243943  \n",
       "20                            948369          133007  \n",
       "21                            197906          136351  \n",
       "22                            335821           22524  \n",
       "23                             36689         1002445  "
      ]
     },
     "execution_count": 10,
     "metadata": {},
     "output_type": "execute_result"
    }
   ],
   "source": [
    "hogares_viviendas.tail()"
   ]
  },
  {
   "cell_type": "code",
   "execution_count": 9,
   "metadata": {},
   "outputs": [
    {
     "data": {
      "text/html": [
       "<div>\n",
       "<style scoped>\n",
       "    .dataframe tbody tr th:only-of-type {\n",
       "        vertical-align: middle;\n",
       "    }\n",
       "\n",
       "    .dataframe tbody tr th {\n",
       "        vertical-align: top;\n",
       "    }\n",
       "\n",
       "    .dataframe thead th {\n",
       "        text-align: right;\n",
       "    }\n",
       "</style>\n",
       "<table border=\"1\" class=\"dataframe\">\n",
       "  <thead>\n",
       "    <tr style=\"text-align: right;\">\n",
       "      <th></th>\n",
       "      <th>provincia</th>\n",
       "      <th>anio</th>\n",
       "      <th>mujeres</th>\n",
       "      <th>varones</th>\n",
       "    </tr>\n",
       "  </thead>\n",
       "  <tbody>\n",
       "    <tr>\n",
       "      <th>139</th>\n",
       "      <td>TucumÃ¡n</td>\n",
       "      <td>2020</td>\n",
       "      <td>81.05</td>\n",
       "      <td>75.11</td>\n",
       "    </tr>\n",
       "    <tr>\n",
       "      <th>140</th>\n",
       "      <td>TucumÃ¡n</td>\n",
       "      <td>2025</td>\n",
       "      <td>82.11</td>\n",
       "      <td>76.15</td>\n",
       "    </tr>\n",
       "    <tr>\n",
       "      <th>141</th>\n",
       "      <td>TucumÃ¡n</td>\n",
       "      <td>2030</td>\n",
       "      <td>83.03</td>\n",
       "      <td>77.07</td>\n",
       "    </tr>\n",
       "    <tr>\n",
       "      <th>142</th>\n",
       "      <td>TucumÃ¡n</td>\n",
       "      <td>2035</td>\n",
       "      <td>83.84</td>\n",
       "      <td>77.88</td>\n",
       "    </tr>\n",
       "    <tr>\n",
       "      <th>143</th>\n",
       "      <td>TucumÃ¡n</td>\n",
       "      <td>2040</td>\n",
       "      <td>84.54</td>\n",
       "      <td>78.58</td>\n",
       "    </tr>\n",
       "  </tbody>\n",
       "</table>\n",
       "</div>"
      ],
      "text/plain": [
       "    provincia  anio  mujeres  varones\n",
       "139  TucumÃ¡n  2020    81.05    75.11\n",
       "140  TucumÃ¡n  2025    82.11    76.15\n",
       "141  TucumÃ¡n  2030    83.03    77.07\n",
       "142  TucumÃ¡n  2035    83.84    77.88\n",
       "143  TucumÃ¡n  2040    84.54    78.58"
      ]
     },
     "execution_count": 9,
     "metadata": {},
     "output_type": "execute_result"
    }
   ],
   "source": [
    "esperanza_de_vida.tail()"
   ]
  },
  {
   "cell_type": "code",
   "execution_count": 11,
   "metadata": {},
   "outputs": [
    {
     "data": {
      "text/html": [
       "<div>\n",
       "<style scoped>\n",
       "    .dataframe tbody tr th:only-of-type {\n",
       "        vertical-align: middle;\n",
       "    }\n",
       "\n",
       "    .dataframe tbody tr th {\n",
       "        vertical-align: top;\n",
       "    }\n",
       "\n",
       "    .dataframe thead th {\n",
       "        text-align: right;\n",
       "    }\n",
       "</style>\n",
       "<table border=\"1\" class=\"dataframe\">\n",
       "  <thead>\n",
       "    <tr style=\"text-align: right;\">\n",
       "      <th></th>\n",
       "      <th>anio</th>\n",
       "      <th>poblacion_total</th>\n",
       "      <th>poblacion_varones</th>\n",
       "      <th>poblacion_mujeres</th>\n",
       "    </tr>\n",
       "  </thead>\n",
       "  <tbody>\n",
       "    <tr>\n",
       "      <th>count</th>\n",
       "      <td>775.000000</td>\n",
       "      <td>7.750000e+02</td>\n",
       "      <td>7.750000e+02</td>\n",
       "      <td>7.750000e+02</td>\n",
       "    </tr>\n",
       "    <tr>\n",
       "      <th>mean</th>\n",
       "      <td>2025.000000</td>\n",
       "      <td>3.777746e+06</td>\n",
       "      <td>1.856888e+06</td>\n",
       "      <td>1.920858e+06</td>\n",
       "    </tr>\n",
       "    <tr>\n",
       "      <th>std</th>\n",
       "      <td>8.950048</td>\n",
       "      <td>9.560571e+06</td>\n",
       "      <td>4.699604e+06</td>\n",
       "      <td>4.861043e+06</td>\n",
       "    </tr>\n",
       "    <tr>\n",
       "      <th>min</th>\n",
       "      <td>2010.000000</td>\n",
       "      <td>1.316610e+05</td>\n",
       "      <td>6.723500e+04</td>\n",
       "      <td>6.442600e+04</td>\n",
       "    </tr>\n",
       "    <tr>\n",
       "      <th>25%</th>\n",
       "      <td>2017.000000</td>\n",
       "      <td>5.845510e+05</td>\n",
       "      <td>2.906740e+05</td>\n",
       "      <td>2.934905e+05</td>\n",
       "    </tr>\n",
       "    <tr>\n",
       "      <th>50%</th>\n",
       "      <td>2025.000000</td>\n",
       "      <td>1.017731e+06</td>\n",
       "      <td>5.061010e+05</td>\n",
       "      <td>5.161370e+05</td>\n",
       "    </tr>\n",
       "    <tr>\n",
       "      <th>75%</th>\n",
       "      <td>2033.000000</td>\n",
       "      <td>1.855285e+06</td>\n",
       "      <td>9.138865e+05</td>\n",
       "      <td>9.404745e+05</td>\n",
       "    </tr>\n",
       "    <tr>\n",
       "      <th>max</th>\n",
       "      <td>2040.000000</td>\n",
       "      <td>5.277848e+07</td>\n",
       "      <td>2.603809e+07</td>\n",
       "      <td>2.674038e+07</td>\n",
       "    </tr>\n",
       "  </tbody>\n",
       "</table>\n",
       "</div>"
      ],
      "text/plain": [
       "              anio  poblacion_total  poblacion_varones  poblacion_mujeres\n",
       "count   775.000000     7.750000e+02       7.750000e+02       7.750000e+02\n",
       "mean   2025.000000     3.777746e+06       1.856888e+06       1.920858e+06\n",
       "std       8.950048     9.560571e+06       4.699604e+06       4.861043e+06\n",
       "min    2010.000000     1.316610e+05       6.723500e+04       6.442600e+04\n",
       "25%    2017.000000     5.845510e+05       2.906740e+05       2.934905e+05\n",
       "50%    2025.000000     1.017731e+06       5.061010e+05       5.161370e+05\n",
       "75%    2033.000000     1.855285e+06       9.138865e+05       9.404745e+05\n",
       "max    2040.000000     5.277848e+07       2.603809e+07       2.674038e+07"
      ]
     },
     "execution_count": 11,
     "metadata": {},
     "output_type": "execute_result"
    }
   ],
   "source": [
    "poblacion.describe()"
   ]
  },
  {
   "cell_type": "code",
   "execution_count": 12,
   "metadata": {},
   "outputs": [
    {
     "data": {
      "text/html": [
       "<div>\n",
       "<style scoped>\n",
       "    .dataframe tbody tr th:only-of-type {\n",
       "        vertical-align: middle;\n",
       "    }\n",
       "\n",
       "    .dataframe tbody tr th {\n",
       "        vertical-align: top;\n",
       "    }\n",
       "\n",
       "    .dataframe thead th {\n",
       "        text-align: right;\n",
       "    }\n",
       "</style>\n",
       "<table border=\"1\" class=\"dataframe\">\n",
       "  <thead>\n",
       "    <tr style=\"text-align: right;\">\n",
       "      <th></th>\n",
       "      <th>provincia_id</th>\n",
       "      <th>hogares</th>\n",
       "      <th>viviendas_particulares</th>\n",
       "      <th>viviendas_particulares_habitadas</th>\n",
       "      <th>superficie_km2</th>\n",
       "    </tr>\n",
       "  </thead>\n",
       "  <tbody>\n",
       "    <tr>\n",
       "      <th>count</th>\n",
       "      <td>24.000000</td>\n",
       "      <td>2.400000e+01</td>\n",
       "      <td>2.400000e+01</td>\n",
       "      <td>2.400000e+01</td>\n",
       "      <td>2.400000e+01</td>\n",
       "    </tr>\n",
       "    <tr>\n",
       "      <th>mean</th>\n",
       "      <td>48.000000</td>\n",
       "      <td>5.071531e+05</td>\n",
       "      <td>5.755052e+05</td>\n",
       "      <td>4.715628e+05</td>\n",
       "      <td>1.567198e+05</td>\n",
       "    </tr>\n",
       "    <tr>\n",
       "      <th>std</th>\n",
       "      <td>28.284271</td>\n",
       "      <td>9.631395e+05</td>\n",
       "      <td>1.087472e+06</td>\n",
       "      <td>8.908855e+05</td>\n",
       "      <td>1.940901e+05</td>\n",
       "    </tr>\n",
       "    <tr>\n",
       "      <th>min</th>\n",
       "      <td>2.000000</td>\n",
       "      <td>3.895600e+04</td>\n",
       "      <td>4.336000e+04</td>\n",
       "      <td>3.668900e+04</td>\n",
       "      <td>2.000000e+02</td>\n",
       "    </tr>\n",
       "    <tr>\n",
       "      <th>25%</th>\n",
       "      <td>25.000000</td>\n",
       "      <td>1.369578e+05</td>\n",
       "      <td>1.513558e+05</td>\n",
       "      <td>1.270420e+05</td>\n",
       "      <td>7.827275e+04</td>\n",
       "    </tr>\n",
       "    <tr>\n",
       "      <th>50%</th>\n",
       "      <td>48.000000</td>\n",
       "      <td>2.086070e+05</td>\n",
       "      <td>2.393215e+05</td>\n",
       "      <td>1.942515e+05</td>\n",
       "      <td>1.011175e+05</td>\n",
       "    </tr>\n",
       "    <tr>\n",
       "      <th>75%</th>\n",
       "      <td>71.000000</td>\n",
       "      <td>3.701838e+05</td>\n",
       "      <td>4.034278e+05</td>\n",
       "      <td>3.411782e+05</td>\n",
       "      <td>1.579462e+05</td>\n",
       "    </tr>\n",
       "    <tr>\n",
       "      <th>max</th>\n",
       "      <td>94.000000</td>\n",
       "      <td>4.789484e+06</td>\n",
       "      <td>5.377786e+06</td>\n",
       "      <td>4.425193e+06</td>\n",
       "      <td>1.002445e+06</td>\n",
       "    </tr>\n",
       "  </tbody>\n",
       "</table>\n",
       "</div>"
      ],
      "text/plain": [
       "       provincia_id       hogares  viviendas_particulares  \\\n",
       "count     24.000000  2.400000e+01            2.400000e+01   \n",
       "mean      48.000000  5.071531e+05            5.755052e+05   \n",
       "std       28.284271  9.631395e+05            1.087472e+06   \n",
       "min        2.000000  3.895600e+04            4.336000e+04   \n",
       "25%       25.000000  1.369578e+05            1.513558e+05   \n",
       "50%       48.000000  2.086070e+05            2.393215e+05   \n",
       "75%       71.000000  3.701838e+05            4.034278e+05   \n",
       "max       94.000000  4.789484e+06            5.377786e+06   \n",
       "\n",
       "       viviendas_particulares_habitadas  superficie_km2  \n",
       "count                      2.400000e+01    2.400000e+01  \n",
       "mean                       4.715628e+05    1.567198e+05  \n",
       "std                        8.908855e+05    1.940901e+05  \n",
       "min                        3.668900e+04    2.000000e+02  \n",
       "25%                        1.270420e+05    7.827275e+04  \n",
       "50%                        1.942515e+05    1.011175e+05  \n",
       "75%                        3.411782e+05    1.579462e+05  \n",
       "max                        4.425193e+06    1.002445e+06  "
      ]
     },
     "execution_count": 12,
     "metadata": {},
     "output_type": "execute_result"
    }
   ],
   "source": [
    "hogares_viviendas.describe()"
   ]
  },
  {
   "cell_type": "code",
   "execution_count": 13,
   "metadata": {},
   "outputs": [
    {
     "data": {
      "text/html": [
       "<div>\n",
       "<style scoped>\n",
       "    .dataframe tbody tr th:only-of-type {\n",
       "        vertical-align: middle;\n",
       "    }\n",
       "\n",
       "    .dataframe tbody tr th {\n",
       "        vertical-align: top;\n",
       "    }\n",
       "\n",
       "    .dataframe thead th {\n",
       "        text-align: right;\n",
       "    }\n",
       "</style>\n",
       "<table border=\"1\" class=\"dataframe\">\n",
       "  <thead>\n",
       "    <tr style=\"text-align: right;\">\n",
       "      <th></th>\n",
       "      <th>anio</th>\n",
       "      <th>mujeres</th>\n",
       "      <th>varones</th>\n",
       "    </tr>\n",
       "  </thead>\n",
       "  <tbody>\n",
       "    <tr>\n",
       "      <th>count</th>\n",
       "      <td>144.000000</td>\n",
       "      <td>144.000000</td>\n",
       "      <td>144.000000</td>\n",
       "    </tr>\n",
       "    <tr>\n",
       "      <th>mean</th>\n",
       "      <td>2027.500000</td>\n",
       "      <td>82.710347</td>\n",
       "      <td>76.417778</td>\n",
       "    </tr>\n",
       "    <tr>\n",
       "      <th>std</th>\n",
       "      <td>8.568931</td>\n",
       "      <td>1.637181</td>\n",
       "      <td>1.749619</td>\n",
       "    </tr>\n",
       "    <tr>\n",
       "      <th>min</th>\n",
       "      <td>2015.000000</td>\n",
       "      <td>78.320000</td>\n",
       "      <td>71.530000</td>\n",
       "    </tr>\n",
       "    <tr>\n",
       "      <th>25%</th>\n",
       "      <td>2020.000000</td>\n",
       "      <td>81.525000</td>\n",
       "      <td>75.177500</td>\n",
       "    </tr>\n",
       "    <tr>\n",
       "      <th>50%</th>\n",
       "      <td>2027.500000</td>\n",
       "      <td>82.865000</td>\n",
       "      <td>76.595000</td>\n",
       "    </tr>\n",
       "    <tr>\n",
       "      <th>75%</th>\n",
       "      <td>2035.000000</td>\n",
       "      <td>84.117500</td>\n",
       "      <td>77.890000</td>\n",
       "    </tr>\n",
       "    <tr>\n",
       "      <th>max</th>\n",
       "      <td>2040.000000</td>\n",
       "      <td>85.460000</td>\n",
       "      <td>79.270000</td>\n",
       "    </tr>\n",
       "  </tbody>\n",
       "</table>\n",
       "</div>"
      ],
      "text/plain": [
       "              anio     mujeres     varones\n",
       "count   144.000000  144.000000  144.000000\n",
       "mean   2027.500000   82.710347   76.417778\n",
       "std       8.568931    1.637181    1.749619\n",
       "min    2015.000000   78.320000   71.530000\n",
       "25%    2020.000000   81.525000   75.177500\n",
       "50%    2027.500000   82.865000   76.595000\n",
       "75%    2035.000000   84.117500   77.890000\n",
       "max    2040.000000   85.460000   79.270000"
      ]
     },
     "execution_count": 13,
     "metadata": {},
     "output_type": "execute_result"
    }
   ],
   "source": [
    "esperanza_de_vida.describe()"
   ]
  },
  {
   "cell_type": "code",
   "execution_count": 14,
   "metadata": {},
   "outputs": [
    {
     "name": "stdout",
     "output_type": "stream",
     "text": [
      "<class 'pandas.core.frame.DataFrame'>\n",
      "RangeIndex: 775 entries, 0 to 774\n",
      "Data columns (total 5 columns):\n",
      " #   Column             Non-Null Count  Dtype \n",
      "---  ------             --------------  ----- \n",
      " 0   provincia          775 non-null    object\n",
      " 1   anio               775 non-null    int64 \n",
      " 2   poblacion_total    775 non-null    int64 \n",
      " 3   poblacion_varones  775 non-null    int64 \n",
      " 4   poblacion_mujeres  775 non-null    int64 \n",
      "dtypes: int64(4), object(1)\n",
      "memory usage: 30.4+ KB\n"
     ]
    }
   ],
   "source": [
    "poblacion.info()"
   ]
  },
  {
   "cell_type": "code",
   "execution_count": 15,
   "metadata": {},
   "outputs": [
    {
     "name": "stdout",
     "output_type": "stream",
     "text": [
      "<class 'pandas.core.frame.DataFrame'>\n",
      "RangeIndex: 24 entries, 0 to 23\n",
      "Data columns (total 6 columns):\n",
      " #   Column                            Non-Null Count  Dtype \n",
      "---  ------                            --------------  ----- \n",
      " 0   provincia_id                      24 non-null     int64 \n",
      " 1   provincia                         24 non-null     object\n",
      " 2   hogares                           24 non-null     int64 \n",
      " 3   viviendas_particulares            24 non-null     int64 \n",
      " 4   viviendas_particulares_habitadas  24 non-null     int64 \n",
      " 5   superficie_km2                    24 non-null     int64 \n",
      "dtypes: int64(5), object(1)\n",
      "memory usage: 1.3+ KB\n"
     ]
    }
   ],
   "source": [
    "hogares_viviendas.info()"
   ]
  },
  {
   "cell_type": "code",
   "execution_count": 16,
   "metadata": {},
   "outputs": [
    {
     "name": "stdout",
     "output_type": "stream",
     "text": [
      "<class 'pandas.core.frame.DataFrame'>\n",
      "RangeIndex: 144 entries, 0 to 143\n",
      "Data columns (total 4 columns):\n",
      " #   Column     Non-Null Count  Dtype  \n",
      "---  ------     --------------  -----  \n",
      " 0   provincia  144 non-null    object \n",
      " 1   anio       144 non-null    int64  \n",
      " 2   mujeres    144 non-null    float64\n",
      " 3   varones    144 non-null    float64\n",
      "dtypes: float64(2), int64(1), object(1)\n",
      "memory usage: 4.6+ KB\n"
     ]
    }
   ],
   "source": [
    "esperanza_de_vida.info()"
   ]
  },
  {
   "cell_type": "code",
   "execution_count": 17,
   "metadata": {},
   "outputs": [
    {
     "data": {
      "text/plain": [
       "provincia            object\n",
       "anio                  int64\n",
       "poblacion_total       int64\n",
       "poblacion_varones     int64\n",
       "poblacion_mujeres     int64\n",
       "dtype: object"
      ]
     },
     "execution_count": 17,
     "metadata": {},
     "output_type": "execute_result"
    }
   ],
   "source": [
    "poblacion.dtypes"
   ]
  },
  {
   "cell_type": "code",
   "execution_count": 18,
   "metadata": {},
   "outputs": [
    {
     "data": {
      "text/plain": [
       "provincia_id                         int64\n",
       "provincia                           object\n",
       "hogares                              int64\n",
       "viviendas_particulares               int64\n",
       "viviendas_particulares_habitadas     int64\n",
       "superficie_km2                       int64\n",
       "dtype: object"
      ]
     },
     "execution_count": 18,
     "metadata": {},
     "output_type": "execute_result"
    }
   ],
   "source": [
    "hogares_viviendas.dtypes"
   ]
  },
  {
   "cell_type": "code",
   "execution_count": 19,
   "metadata": {},
   "outputs": [
    {
     "data": {
      "text/plain": [
       "provincia     object\n",
       "anio           int64\n",
       "mujeres      float64\n",
       "varones      float64\n",
       "dtype: object"
      ]
     },
     "execution_count": 19,
     "metadata": {},
     "output_type": "execute_result"
    }
   ],
   "source": [
    "esperanza_de_vida.dtypes"
   ]
  },
  {
   "cell_type": "code",
   "execution_count": 20,
   "metadata": {},
   "outputs": [
    {
     "data": {
      "text/html": [
       "<div>\n",
       "<style scoped>\n",
       "    .dataframe tbody tr th:only-of-type {\n",
       "        vertical-align: middle;\n",
       "    }\n",
       "\n",
       "    .dataframe tbody tr th {\n",
       "        vertical-align: top;\n",
       "    }\n",
       "\n",
       "    .dataframe thead th {\n",
       "        text-align: right;\n",
       "    }\n",
       "</style>\n",
       "<table border=\"1\" class=\"dataframe\">\n",
       "  <thead>\n",
       "    <tr style=\"text-align: right;\">\n",
       "      <th></th>\n",
       "      <th>provincia</th>\n",
       "      <th>anio</th>\n",
       "      <th>poblacion_total</th>\n",
       "      <th>poblacion_varones</th>\n",
       "      <th>poblacion_mujeres</th>\n",
       "    </tr>\n",
       "  </thead>\n",
       "  <tbody>\n",
       "    <tr>\n",
       "      <th>31</th>\n",
       "      <td>Capital Federal</td>\n",
       "      <td>2010</td>\n",
       "      <td>3028481</td>\n",
       "      <td>1405566</td>\n",
       "      <td>1622915</td>\n",
       "    </tr>\n",
       "    <tr>\n",
       "      <th>32</th>\n",
       "      <td>Capital Federal</td>\n",
       "      <td>2011</td>\n",
       "      <td>3033639</td>\n",
       "      <td>1409835</td>\n",
       "      <td>1623804</td>\n",
       "    </tr>\n",
       "    <tr>\n",
       "      <th>33</th>\n",
       "      <td>Capital Federal</td>\n",
       "      <td>2012</td>\n",
       "      <td>3038860</td>\n",
       "      <td>1414105</td>\n",
       "      <td>1624755</td>\n",
       "    </tr>\n",
       "    <tr>\n",
       "      <th>34</th>\n",
       "      <td>Capital Federal</td>\n",
       "      <td>2013</td>\n",
       "      <td>3044076</td>\n",
       "      <td>1418339</td>\n",
       "      <td>1625737</td>\n",
       "    </tr>\n",
       "    <tr>\n",
       "      <th>35</th>\n",
       "      <td>Capital Federal</td>\n",
       "      <td>2014</td>\n",
       "      <td>3049229</td>\n",
       "      <td>1422507</td>\n",
       "      <td>1626722</td>\n",
       "    </tr>\n",
       "    <tr>\n",
       "      <th>...</th>\n",
       "      <td>...</td>\n",
       "      <td>...</td>\n",
       "      <td>...</td>\n",
       "      <td>...</td>\n",
       "      <td>...</td>\n",
       "    </tr>\n",
       "    <tr>\n",
       "      <th>770</th>\n",
       "      <td>Tierra del Fuego</td>\n",
       "      <td>2036</td>\n",
       "      <td>241593</td>\n",
       "      <td>122567</td>\n",
       "      <td>119026</td>\n",
       "    </tr>\n",
       "    <tr>\n",
       "      <th>771</th>\n",
       "      <td>Tierra del Fuego</td>\n",
       "      <td>2037</td>\n",
       "      <td>245734</td>\n",
       "      <td>124625</td>\n",
       "      <td>121109</td>\n",
       "    </tr>\n",
       "    <tr>\n",
       "      <th>772</th>\n",
       "      <td>Tierra del Fuego</td>\n",
       "      <td>2038</td>\n",
       "      <td>249853</td>\n",
       "      <td>126670</td>\n",
       "      <td>123183</td>\n",
       "    </tr>\n",
       "    <tr>\n",
       "      <th>773</th>\n",
       "      <td>Tierra del Fuego</td>\n",
       "      <td>2039</td>\n",
       "      <td>253948</td>\n",
       "      <td>128702</td>\n",
       "      <td>125246</td>\n",
       "    </tr>\n",
       "    <tr>\n",
       "      <th>774</th>\n",
       "      <td>Tierra del Fuego</td>\n",
       "      <td>2040</td>\n",
       "      <td>258020</td>\n",
       "      <td>130721</td>\n",
       "      <td>127299</td>\n",
       "    </tr>\n",
       "  </tbody>\n",
       "</table>\n",
       "<p>744 rows × 5 columns</p>\n",
       "</div>"
      ],
      "text/plain": [
       "            provincia  anio  poblacion_total  poblacion_varones  \\\n",
       "31    Capital Federal  2010          3028481            1405566   \n",
       "32    Capital Federal  2011          3033639            1409835   \n",
       "33    Capital Federal  2012          3038860            1414105   \n",
       "34    Capital Federal  2013          3044076            1418339   \n",
       "35    Capital Federal  2014          3049229            1422507   \n",
       "..                ...   ...              ...                ...   \n",
       "770  Tierra del Fuego  2036           241593             122567   \n",
       "771  Tierra del Fuego  2037           245734             124625   \n",
       "772  Tierra del Fuego  2038           249853             126670   \n",
       "773  Tierra del Fuego  2039           253948             128702   \n",
       "774  Tierra del Fuego  2040           258020             130721   \n",
       "\n",
       "     poblacion_mujeres  \n",
       "31             1622915  \n",
       "32             1623804  \n",
       "33             1624755  \n",
       "34             1625737  \n",
       "35             1626722  \n",
       "..                 ...  \n",
       "770             119026  \n",
       "771             121109  \n",
       "772             123183  \n",
       "773             125246  \n",
       "774             127299  \n",
       "\n",
       "[744 rows x 5 columns]"
      ]
     },
     "execution_count": 20,
     "metadata": {},
     "output_type": "execute_result"
    }
   ],
   "source": [
    "poblacion_filtrado = poblacion[poblacion['provincia'] != 'Total País']\n",
    "poblacion_filtrado "
   ]
  },
  {
   "cell_type": "code",
   "execution_count": 21,
   "metadata": {},
   "outputs": [
    {
     "data": {
      "text/html": [
       "<div>\n",
       "<style scoped>\n",
       "    .dataframe tbody tr th:only-of-type {\n",
       "        vertical-align: middle;\n",
       "    }\n",
       "\n",
       "    .dataframe tbody tr th {\n",
       "        vertical-align: top;\n",
       "    }\n",
       "\n",
       "    .dataframe thead th {\n",
       "        text-align: right;\n",
       "    }\n",
       "</style>\n",
       "<table border=\"1\" class=\"dataframe\">\n",
       "  <thead>\n",
       "    <tr style=\"text-align: right;\">\n",
       "      <th></th>\n",
       "      <th>provincia</th>\n",
       "      <th>anio</th>\n",
       "      <th>poblacion_total</th>\n",
       "      <th>poblacion_varones</th>\n",
       "      <th>poblacion_mujeres</th>\n",
       "      <th>provincia_id</th>\n",
       "      <th>hogares</th>\n",
       "      <th>viviendas_particulares</th>\n",
       "      <th>viviendas_particulares_habitadas</th>\n",
       "      <th>superficie_km2</th>\n",
       "    </tr>\n",
       "  </thead>\n",
       "  <tbody>\n",
       "    <tr>\n",
       "      <th>0</th>\n",
       "      <td>Capital Federal</td>\n",
       "      <td>2010</td>\n",
       "      <td>3028481</td>\n",
       "      <td>1405566</td>\n",
       "      <td>1622915</td>\n",
       "      <td>2</td>\n",
       "      <td>1150134</td>\n",
       "      <td>1423973</td>\n",
       "      <td>1082998</td>\n",
       "      <td>200</td>\n",
       "    </tr>\n",
       "    <tr>\n",
       "      <th>1</th>\n",
       "      <td>Capital Federal</td>\n",
       "      <td>2011</td>\n",
       "      <td>3033639</td>\n",
       "      <td>1409835</td>\n",
       "      <td>1623804</td>\n",
       "      <td>2</td>\n",
       "      <td>1150134</td>\n",
       "      <td>1423973</td>\n",
       "      <td>1082998</td>\n",
       "      <td>200</td>\n",
       "    </tr>\n",
       "    <tr>\n",
       "      <th>2</th>\n",
       "      <td>Capital Federal</td>\n",
       "      <td>2012</td>\n",
       "      <td>3038860</td>\n",
       "      <td>1414105</td>\n",
       "      <td>1624755</td>\n",
       "      <td>2</td>\n",
       "      <td>1150134</td>\n",
       "      <td>1423973</td>\n",
       "      <td>1082998</td>\n",
       "      <td>200</td>\n",
       "    </tr>\n",
       "    <tr>\n",
       "      <th>3</th>\n",
       "      <td>Capital Federal</td>\n",
       "      <td>2013</td>\n",
       "      <td>3044076</td>\n",
       "      <td>1418339</td>\n",
       "      <td>1625737</td>\n",
       "      <td>2</td>\n",
       "      <td>1150134</td>\n",
       "      <td>1423973</td>\n",
       "      <td>1082998</td>\n",
       "      <td>200</td>\n",
       "    </tr>\n",
       "    <tr>\n",
       "      <th>4</th>\n",
       "      <td>Capital Federal</td>\n",
       "      <td>2014</td>\n",
       "      <td>3049229</td>\n",
       "      <td>1422507</td>\n",
       "      <td>1626722</td>\n",
       "      <td>2</td>\n",
       "      <td>1150134</td>\n",
       "      <td>1423973</td>\n",
       "      <td>1082998</td>\n",
       "      <td>200</td>\n",
       "    </tr>\n",
       "    <tr>\n",
       "      <th>...</th>\n",
       "      <td>...</td>\n",
       "      <td>...</td>\n",
       "      <td>...</td>\n",
       "      <td>...</td>\n",
       "      <td>...</td>\n",
       "      <td>...</td>\n",
       "      <td>...</td>\n",
       "      <td>...</td>\n",
       "      <td>...</td>\n",
       "      <td>...</td>\n",
       "    </tr>\n",
       "    <tr>\n",
       "      <th>739</th>\n",
       "      <td>Tierra del Fuego</td>\n",
       "      <td>2036</td>\n",
       "      <td>241593</td>\n",
       "      <td>122567</td>\n",
       "      <td>119026</td>\n",
       "      <td>94</td>\n",
       "      <td>38956</td>\n",
       "      <td>43360</td>\n",
       "      <td>36689</td>\n",
       "      <td>1002445</td>\n",
       "    </tr>\n",
       "    <tr>\n",
       "      <th>740</th>\n",
       "      <td>Tierra del Fuego</td>\n",
       "      <td>2037</td>\n",
       "      <td>245734</td>\n",
       "      <td>124625</td>\n",
       "      <td>121109</td>\n",
       "      <td>94</td>\n",
       "      <td>38956</td>\n",
       "      <td>43360</td>\n",
       "      <td>36689</td>\n",
       "      <td>1002445</td>\n",
       "    </tr>\n",
       "    <tr>\n",
       "      <th>741</th>\n",
       "      <td>Tierra del Fuego</td>\n",
       "      <td>2038</td>\n",
       "      <td>249853</td>\n",
       "      <td>126670</td>\n",
       "      <td>123183</td>\n",
       "      <td>94</td>\n",
       "      <td>38956</td>\n",
       "      <td>43360</td>\n",
       "      <td>36689</td>\n",
       "      <td>1002445</td>\n",
       "    </tr>\n",
       "    <tr>\n",
       "      <th>742</th>\n",
       "      <td>Tierra del Fuego</td>\n",
       "      <td>2039</td>\n",
       "      <td>253948</td>\n",
       "      <td>128702</td>\n",
       "      <td>125246</td>\n",
       "      <td>94</td>\n",
       "      <td>38956</td>\n",
       "      <td>43360</td>\n",
       "      <td>36689</td>\n",
       "      <td>1002445</td>\n",
       "    </tr>\n",
       "    <tr>\n",
       "      <th>743</th>\n",
       "      <td>Tierra del Fuego</td>\n",
       "      <td>2040</td>\n",
       "      <td>258020</td>\n",
       "      <td>130721</td>\n",
       "      <td>127299</td>\n",
       "      <td>94</td>\n",
       "      <td>38956</td>\n",
       "      <td>43360</td>\n",
       "      <td>36689</td>\n",
       "      <td>1002445</td>\n",
       "    </tr>\n",
       "  </tbody>\n",
       "</table>\n",
       "<p>744 rows × 10 columns</p>\n",
       "</div>"
      ],
      "text/plain": [
       "            provincia  anio  poblacion_total  poblacion_varones  \\\n",
       "0     Capital Federal  2010          3028481            1405566   \n",
       "1     Capital Federal  2011          3033639            1409835   \n",
       "2     Capital Federal  2012          3038860            1414105   \n",
       "3     Capital Federal  2013          3044076            1418339   \n",
       "4     Capital Federal  2014          3049229            1422507   \n",
       "..                ...   ...              ...                ...   \n",
       "739  Tierra del Fuego  2036           241593             122567   \n",
       "740  Tierra del Fuego  2037           245734             124625   \n",
       "741  Tierra del Fuego  2038           249853             126670   \n",
       "742  Tierra del Fuego  2039           253948             128702   \n",
       "743  Tierra del Fuego  2040           258020             130721   \n",
       "\n",
       "     poblacion_mujeres  provincia_id  hogares  viviendas_particulares  \\\n",
       "0              1622915             2  1150134                 1423973   \n",
       "1              1623804             2  1150134                 1423973   \n",
       "2              1624755             2  1150134                 1423973   \n",
       "3              1625737             2  1150134                 1423973   \n",
       "4              1626722             2  1150134                 1423973   \n",
       "..                 ...           ...      ...                     ...   \n",
       "739             119026            94    38956                   43360   \n",
       "740             121109            94    38956                   43360   \n",
       "741             123183            94    38956                   43360   \n",
       "742             125246            94    38956                   43360   \n",
       "743             127299            94    38956                   43360   \n",
       "\n",
       "     viviendas_particulares_habitadas  superficie_km2  \n",
       "0                             1082998             200  \n",
       "1                             1082998             200  \n",
       "2                             1082998             200  \n",
       "3                             1082998             200  \n",
       "4                             1082998             200  \n",
       "..                                ...             ...  \n",
       "739                             36689         1002445  \n",
       "740                             36689         1002445  \n",
       "741                             36689         1002445  \n",
       "742                             36689         1002445  \n",
       "743                             36689         1002445  \n",
       "\n",
       "[744 rows x 10 columns]"
      ]
     },
     "execution_count": 21,
     "metadata": {},
     "output_type": "execute_result"
    }
   ],
   "source": [
    "poblacion_superficie = pd.merge(poblacion_filtrado, hogares_viviendas, left_on=['provincia'], right_on=['provincia'], how='left')\n",
    "poblacion_superficie"
   ]
  },
  {
   "cell_type": "code",
   "execution_count": 25,
   "metadata": {},
   "outputs": [
    {
     "data": {
      "text/html": [
       "<div>\n",
       "<style scoped>\n",
       "    .dataframe tbody tr th:only-of-type {\n",
       "        vertical-align: middle;\n",
       "    }\n",
       "\n",
       "    .dataframe tbody tr th {\n",
       "        vertical-align: top;\n",
       "    }\n",
       "\n",
       "    .dataframe thead th {\n",
       "        text-align: right;\n",
       "    }\n",
       "</style>\n",
       "<table border=\"1\" class=\"dataframe\">\n",
       "  <thead>\n",
       "    <tr style=\"text-align: right;\">\n",
       "      <th></th>\n",
       "      <th>provincia</th>\n",
       "      <th>anio</th>\n",
       "      <th>poblacion_total</th>\n",
       "      <th>poblacion_varones</th>\n",
       "      <th>poblacion_mujeres</th>\n",
       "      <th>provincia_id</th>\n",
       "      <th>hogares</th>\n",
       "      <th>viviendas_particulares</th>\n",
       "      <th>viviendas_particulares_habitadas</th>\n",
       "      <th>superficie_km2</th>\n",
       "      <th>densidad_de_poblacion</th>\n",
       "    </tr>\n",
       "  </thead>\n",
       "  <tbody>\n",
       "    <tr>\n",
       "      <th>0</th>\n",
       "      <td>Capital Federal</td>\n",
       "      <td>2010</td>\n",
       "      <td>3028481</td>\n",
       "      <td>1405566</td>\n",
       "      <td>1622915</td>\n",
       "      <td>2</td>\n",
       "      <td>1150134</td>\n",
       "      <td>1423973</td>\n",
       "      <td>1082998</td>\n",
       "      <td>200</td>\n",
       "      <td>15142.405000</td>\n",
       "    </tr>\n",
       "    <tr>\n",
       "      <th>1</th>\n",
       "      <td>Capital Federal</td>\n",
       "      <td>2011</td>\n",
       "      <td>3033639</td>\n",
       "      <td>1409835</td>\n",
       "      <td>1623804</td>\n",
       "      <td>2</td>\n",
       "      <td>1150134</td>\n",
       "      <td>1423973</td>\n",
       "      <td>1082998</td>\n",
       "      <td>200</td>\n",
       "      <td>15168.195000</td>\n",
       "    </tr>\n",
       "    <tr>\n",
       "      <th>2</th>\n",
       "      <td>Capital Federal</td>\n",
       "      <td>2012</td>\n",
       "      <td>3038860</td>\n",
       "      <td>1414105</td>\n",
       "      <td>1624755</td>\n",
       "      <td>2</td>\n",
       "      <td>1150134</td>\n",
       "      <td>1423973</td>\n",
       "      <td>1082998</td>\n",
       "      <td>200</td>\n",
       "      <td>15194.300000</td>\n",
       "    </tr>\n",
       "    <tr>\n",
       "      <th>3</th>\n",
       "      <td>Capital Federal</td>\n",
       "      <td>2013</td>\n",
       "      <td>3044076</td>\n",
       "      <td>1418339</td>\n",
       "      <td>1625737</td>\n",
       "      <td>2</td>\n",
       "      <td>1150134</td>\n",
       "      <td>1423973</td>\n",
       "      <td>1082998</td>\n",
       "      <td>200</td>\n",
       "      <td>15220.380000</td>\n",
       "    </tr>\n",
       "    <tr>\n",
       "      <th>4</th>\n",
       "      <td>Capital Federal</td>\n",
       "      <td>2014</td>\n",
       "      <td>3049229</td>\n",
       "      <td>1422507</td>\n",
       "      <td>1626722</td>\n",
       "      <td>2</td>\n",
       "      <td>1150134</td>\n",
       "      <td>1423973</td>\n",
       "      <td>1082998</td>\n",
       "      <td>200</td>\n",
       "      <td>15246.145000</td>\n",
       "    </tr>\n",
       "    <tr>\n",
       "      <th>...</th>\n",
       "      <td>...</td>\n",
       "      <td>...</td>\n",
       "      <td>...</td>\n",
       "      <td>...</td>\n",
       "      <td>...</td>\n",
       "      <td>...</td>\n",
       "      <td>...</td>\n",
       "      <td>...</td>\n",
       "      <td>...</td>\n",
       "      <td>...</td>\n",
       "      <td>...</td>\n",
       "    </tr>\n",
       "    <tr>\n",
       "      <th>739</th>\n",
       "      <td>Tierra del Fuego</td>\n",
       "      <td>2036</td>\n",
       "      <td>241593</td>\n",
       "      <td>122567</td>\n",
       "      <td>119026</td>\n",
       "      <td>94</td>\n",
       "      <td>38956</td>\n",
       "      <td>43360</td>\n",
       "      <td>36689</td>\n",
       "      <td>1002445</td>\n",
       "      <td>0.241004</td>\n",
       "    </tr>\n",
       "    <tr>\n",
       "      <th>740</th>\n",
       "      <td>Tierra del Fuego</td>\n",
       "      <td>2037</td>\n",
       "      <td>245734</td>\n",
       "      <td>124625</td>\n",
       "      <td>121109</td>\n",
       "      <td>94</td>\n",
       "      <td>38956</td>\n",
       "      <td>43360</td>\n",
       "      <td>36689</td>\n",
       "      <td>1002445</td>\n",
       "      <td>0.245135</td>\n",
       "    </tr>\n",
       "    <tr>\n",
       "      <th>741</th>\n",
       "      <td>Tierra del Fuego</td>\n",
       "      <td>2038</td>\n",
       "      <td>249853</td>\n",
       "      <td>126670</td>\n",
       "      <td>123183</td>\n",
       "      <td>94</td>\n",
       "      <td>38956</td>\n",
       "      <td>43360</td>\n",
       "      <td>36689</td>\n",
       "      <td>1002445</td>\n",
       "      <td>0.249244</td>\n",
       "    </tr>\n",
       "    <tr>\n",
       "      <th>742</th>\n",
       "      <td>Tierra del Fuego</td>\n",
       "      <td>2039</td>\n",
       "      <td>253948</td>\n",
       "      <td>128702</td>\n",
       "      <td>125246</td>\n",
       "      <td>94</td>\n",
       "      <td>38956</td>\n",
       "      <td>43360</td>\n",
       "      <td>36689</td>\n",
       "      <td>1002445</td>\n",
       "      <td>0.253329</td>\n",
       "    </tr>\n",
       "    <tr>\n",
       "      <th>743</th>\n",
       "      <td>Tierra del Fuego</td>\n",
       "      <td>2040</td>\n",
       "      <td>258020</td>\n",
       "      <td>130721</td>\n",
       "      <td>127299</td>\n",
       "      <td>94</td>\n",
       "      <td>38956</td>\n",
       "      <td>43360</td>\n",
       "      <td>36689</td>\n",
       "      <td>1002445</td>\n",
       "      <td>0.257391</td>\n",
       "    </tr>\n",
       "  </tbody>\n",
       "</table>\n",
       "<p>744 rows × 11 columns</p>\n",
       "</div>"
      ],
      "text/plain": [
       "            provincia  anio  poblacion_total  poblacion_varones  \\\n",
       "0     Capital Federal  2010          3028481            1405566   \n",
       "1     Capital Federal  2011          3033639            1409835   \n",
       "2     Capital Federal  2012          3038860            1414105   \n",
       "3     Capital Federal  2013          3044076            1418339   \n",
       "4     Capital Federal  2014          3049229            1422507   \n",
       "..                ...   ...              ...                ...   \n",
       "739  Tierra del Fuego  2036           241593             122567   \n",
       "740  Tierra del Fuego  2037           245734             124625   \n",
       "741  Tierra del Fuego  2038           249853             126670   \n",
       "742  Tierra del Fuego  2039           253948             128702   \n",
       "743  Tierra del Fuego  2040           258020             130721   \n",
       "\n",
       "     poblacion_mujeres  provincia_id  hogares  viviendas_particulares  \\\n",
       "0              1622915             2  1150134                 1423973   \n",
       "1              1623804             2  1150134                 1423973   \n",
       "2              1624755             2  1150134                 1423973   \n",
       "3              1625737             2  1150134                 1423973   \n",
       "4              1626722             2  1150134                 1423973   \n",
       "..                 ...           ...      ...                     ...   \n",
       "739             119026            94    38956                   43360   \n",
       "740             121109            94    38956                   43360   \n",
       "741             123183            94    38956                   43360   \n",
       "742             125246            94    38956                   43360   \n",
       "743             127299            94    38956                   43360   \n",
       "\n",
       "     viviendas_particulares_habitadas  superficie_km2  densidad_de_poblacion  \n",
       "0                             1082998             200           15142.405000  \n",
       "1                             1082998             200           15168.195000  \n",
       "2                             1082998             200           15194.300000  \n",
       "3                             1082998             200           15220.380000  \n",
       "4                             1082998             200           15246.145000  \n",
       "..                                ...             ...                    ...  \n",
       "739                             36689         1002445               0.241004  \n",
       "740                             36689         1002445               0.245135  \n",
       "741                             36689         1002445               0.249244  \n",
       "742                             36689         1002445               0.253329  \n",
       "743                             36689         1002445               0.257391  \n",
       "\n",
       "[744 rows x 11 columns]"
      ]
     },
     "execution_count": 25,
     "metadata": {},
     "output_type": "execute_result"
    }
   ],
   "source": [
    "poblacion_superficie['densidad_de_poblacion'] = poblacion_superficie['poblacion_total']/poblacion_superficie['superficie_km2']\n",
    "poblacion_superficie"
   ]
  },
  {
   "cell_type": "code",
   "execution_count": 22,
   "metadata": {},
   "outputs": [
    {
     "data": {
      "text/plain": [
       "provincia                           0\n",
       "anio                                0\n",
       "poblacion_total                     0\n",
       "poblacion_varones                   0\n",
       "poblacion_mujeres                   0\n",
       "provincia_id                        0\n",
       "hogares                             0\n",
       "viviendas_particulares              0\n",
       "viviendas_particulares_habitadas    0\n",
       "superficie_km2                      0\n",
       "dtype: int64"
      ]
     },
     "execution_count": 22,
     "metadata": {},
     "output_type": "execute_result"
    }
   ],
   "source": [
    "poblacion_superficie.isnull().sum()"
   ]
  },
  {
   "cell_type": "code",
   "execution_count": 28,
   "metadata": {},
   "outputs": [],
   "source": [
    "poblacion_superficie[\"densidad_de_poblacion\"] = (\n",
    "    poblacion_superficie[\"poblacion_total\"] / poblacion_superficie[\"superficie_km2\"]\n",
    ")\n"
   ]
  },
  {
   "cell_type": "code",
   "execution_count": 29,
   "metadata": {},
   "outputs": [
    {
     "data": {
      "text/html": [
       "<div>\n",
       "<style scoped>\n",
       "    .dataframe tbody tr th:only-of-type {\n",
       "        vertical-align: middle;\n",
       "    }\n",
       "\n",
       "    .dataframe tbody tr th {\n",
       "        vertical-align: top;\n",
       "    }\n",
       "\n",
       "    .dataframe thead th {\n",
       "        text-align: right;\n",
       "    }\n",
       "</style>\n",
       "<table border=\"1\" class=\"dataframe\">\n",
       "  <thead>\n",
       "    <tr style=\"text-align: right;\">\n",
       "      <th></th>\n",
       "      <th>provincia</th>\n",
       "      <th>anio</th>\n",
       "      <th>poblacion_total</th>\n",
       "      <th>poblacion_varones</th>\n",
       "      <th>poblacion_mujeres</th>\n",
       "      <th>provincia_id</th>\n",
       "      <th>hogares</th>\n",
       "      <th>viviendas_particulares</th>\n",
       "      <th>viviendas_particulares_habitadas</th>\n",
       "      <th>superficie_km2</th>\n",
       "      <th>densidad_de_poblacion</th>\n",
       "      <th>fuera_de_rango</th>\n",
       "    </tr>\n",
       "  </thead>\n",
       "  <tbody>\n",
       "    <tr>\n",
       "      <th>0</th>\n",
       "      <td>Capital Federal</td>\n",
       "      <td>2010</td>\n",
       "      <td>3028481</td>\n",
       "      <td>1405566</td>\n",
       "      <td>1622915</td>\n",
       "      <td>2</td>\n",
       "      <td>1150134</td>\n",
       "      <td>1423973</td>\n",
       "      <td>1082998</td>\n",
       "      <td>200</td>\n",
       "      <td>15142.405000</td>\n",
       "      <td>4.731966</td>\n",
       "    </tr>\n",
       "    <tr>\n",
       "      <th>1</th>\n",
       "      <td>Capital Federal</td>\n",
       "      <td>2011</td>\n",
       "      <td>3033639</td>\n",
       "      <td>1409835</td>\n",
       "      <td>1623804</td>\n",
       "      <td>2</td>\n",
       "      <td>1150134</td>\n",
       "      <td>1423973</td>\n",
       "      <td>1082998</td>\n",
       "      <td>200</td>\n",
       "      <td>15168.195000</td>\n",
       "      <td>4.740389</td>\n",
       "    </tr>\n",
       "    <tr>\n",
       "      <th>2</th>\n",
       "      <td>Capital Federal</td>\n",
       "      <td>2012</td>\n",
       "      <td>3038860</td>\n",
       "      <td>1414105</td>\n",
       "      <td>1624755</td>\n",
       "      <td>2</td>\n",
       "      <td>1150134</td>\n",
       "      <td>1423973</td>\n",
       "      <td>1082998</td>\n",
       "      <td>200</td>\n",
       "      <td>15194.300000</td>\n",
       "      <td>4.748916</td>\n",
       "    </tr>\n",
       "    <tr>\n",
       "      <th>3</th>\n",
       "      <td>Capital Federal</td>\n",
       "      <td>2013</td>\n",
       "      <td>3044076</td>\n",
       "      <td>1418339</td>\n",
       "      <td>1625737</td>\n",
       "      <td>2</td>\n",
       "      <td>1150134</td>\n",
       "      <td>1423973</td>\n",
       "      <td>1082998</td>\n",
       "      <td>200</td>\n",
       "      <td>15220.380000</td>\n",
       "      <td>4.757434</td>\n",
       "    </tr>\n",
       "    <tr>\n",
       "      <th>4</th>\n",
       "      <td>Capital Federal</td>\n",
       "      <td>2014</td>\n",
       "      <td>3049229</td>\n",
       "      <td>1422507</td>\n",
       "      <td>1626722</td>\n",
       "      <td>2</td>\n",
       "      <td>1150134</td>\n",
       "      <td>1423973</td>\n",
       "      <td>1082998</td>\n",
       "      <td>200</td>\n",
       "      <td>15246.145000</td>\n",
       "      <td>4.765849</td>\n",
       "    </tr>\n",
       "    <tr>\n",
       "      <th>...</th>\n",
       "      <td>...</td>\n",
       "      <td>...</td>\n",
       "      <td>...</td>\n",
       "      <td>...</td>\n",
       "      <td>...</td>\n",
       "      <td>...</td>\n",
       "      <td>...</td>\n",
       "      <td>...</td>\n",
       "      <td>...</td>\n",
       "      <td>...</td>\n",
       "      <td>...</td>\n",
       "      <td>...</td>\n",
       "    </tr>\n",
       "    <tr>\n",
       "      <th>739</th>\n",
       "      <td>Tierra del Fuego</td>\n",
       "      <td>2036</td>\n",
       "      <td>241593</td>\n",
       "      <td>122567</td>\n",
       "      <td>119026</td>\n",
       "      <td>94</td>\n",
       "      <td>38956</td>\n",
       "      <td>43360</td>\n",
       "      <td>36689</td>\n",
       "      <td>1002445</td>\n",
       "      <td>0.241004</td>\n",
       "      <td>-0.213774</td>\n",
       "    </tr>\n",
       "    <tr>\n",
       "      <th>740</th>\n",
       "      <td>Tierra del Fuego</td>\n",
       "      <td>2037</td>\n",
       "      <td>245734</td>\n",
       "      <td>124625</td>\n",
       "      <td>121109</td>\n",
       "      <td>94</td>\n",
       "      <td>38956</td>\n",
       "      <td>43360</td>\n",
       "      <td>36689</td>\n",
       "      <td>1002445</td>\n",
       "      <td>0.245135</td>\n",
       "      <td>-0.213773</td>\n",
       "    </tr>\n",
       "    <tr>\n",
       "      <th>741</th>\n",
       "      <td>Tierra del Fuego</td>\n",
       "      <td>2038</td>\n",
       "      <td>249853</td>\n",
       "      <td>126670</td>\n",
       "      <td>123183</td>\n",
       "      <td>94</td>\n",
       "      <td>38956</td>\n",
       "      <td>43360</td>\n",
       "      <td>36689</td>\n",
       "      <td>1002445</td>\n",
       "      <td>0.249244</td>\n",
       "      <td>-0.213771</td>\n",
       "    </tr>\n",
       "    <tr>\n",
       "      <th>742</th>\n",
       "      <td>Tierra del Fuego</td>\n",
       "      <td>2039</td>\n",
       "      <td>253948</td>\n",
       "      <td>128702</td>\n",
       "      <td>125246</td>\n",
       "      <td>94</td>\n",
       "      <td>38956</td>\n",
       "      <td>43360</td>\n",
       "      <td>36689</td>\n",
       "      <td>1002445</td>\n",
       "      <td>0.253329</td>\n",
       "      <td>-0.213770</td>\n",
       "    </tr>\n",
       "    <tr>\n",
       "      <th>743</th>\n",
       "      <td>Tierra del Fuego</td>\n",
       "      <td>2040</td>\n",
       "      <td>258020</td>\n",
       "      <td>130721</td>\n",
       "      <td>127299</td>\n",
       "      <td>94</td>\n",
       "      <td>38956</td>\n",
       "      <td>43360</td>\n",
       "      <td>36689</td>\n",
       "      <td>1002445</td>\n",
       "      <td>0.257391</td>\n",
       "      <td>-0.213769</td>\n",
       "    </tr>\n",
       "  </tbody>\n",
       "</table>\n",
       "<p>744 rows × 12 columns</p>\n",
       "</div>"
      ],
      "text/plain": [
       "            provincia  anio  poblacion_total  poblacion_varones  \\\n",
       "0     Capital Federal  2010          3028481            1405566   \n",
       "1     Capital Federal  2011          3033639            1409835   \n",
       "2     Capital Federal  2012          3038860            1414105   \n",
       "3     Capital Federal  2013          3044076            1418339   \n",
       "4     Capital Federal  2014          3049229            1422507   \n",
       "..                ...   ...              ...                ...   \n",
       "739  Tierra del Fuego  2036           241593             122567   \n",
       "740  Tierra del Fuego  2037           245734             124625   \n",
       "741  Tierra del Fuego  2038           249853             126670   \n",
       "742  Tierra del Fuego  2039           253948             128702   \n",
       "743  Tierra del Fuego  2040           258020             130721   \n",
       "\n",
       "     poblacion_mujeres  provincia_id  hogares  viviendas_particulares  \\\n",
       "0              1622915             2  1150134                 1423973   \n",
       "1              1623804             2  1150134                 1423973   \n",
       "2              1624755             2  1150134                 1423973   \n",
       "3              1625737             2  1150134                 1423973   \n",
       "4              1626722             2  1150134                 1423973   \n",
       "..                 ...           ...      ...                     ...   \n",
       "739             119026            94    38956                   43360   \n",
       "740             121109            94    38956                   43360   \n",
       "741             123183            94    38956                   43360   \n",
       "742             125246            94    38956                   43360   \n",
       "743             127299            94    38956                   43360   \n",
       "\n",
       "     viviendas_particulares_habitadas  superficie_km2  densidad_de_poblacion  \\\n",
       "0                             1082998             200           15142.405000   \n",
       "1                             1082998             200           15168.195000   \n",
       "2                             1082998             200           15194.300000   \n",
       "3                             1082998             200           15220.380000   \n",
       "4                             1082998             200           15246.145000   \n",
       "..                                ...             ...                    ...   \n",
       "739                             36689         1002445               0.241004   \n",
       "740                             36689         1002445               0.245135   \n",
       "741                             36689         1002445               0.249244   \n",
       "742                             36689         1002445               0.253329   \n",
       "743                             36689         1002445               0.257391   \n",
       "\n",
       "     fuera_de_rango  \n",
       "0          4.731966  \n",
       "1          4.740389  \n",
       "2          4.748916  \n",
       "3          4.757434  \n",
       "4          4.765849  \n",
       "..              ...  \n",
       "739       -0.213774  \n",
       "740       -0.213773  \n",
       "741       -0.213771  \n",
       "742       -0.213770  \n",
       "743       -0.213769  \n",
       "\n",
       "[744 rows x 12 columns]"
      ]
     },
     "execution_count": 29,
     "metadata": {},
     "output_type": "execute_result"
    }
   ],
   "source": [
    "poblacion_superficie['fuera_de_rango'] = (poblacion_superficie['densidad_de_poblacion']- np.mean(poblacion_superficie['densidad_de_poblacion']))/np.std(poblacion_superficie['densidad_de_poblacion'])\n",
    "poblacion_superficie"
   ]
  },
  {
   "cell_type": "code",
   "execution_count": 30,
   "metadata": {},
   "outputs": [
    {
     "data": {
      "text/plain": [
       "np.float64(4.821306724666531)"
      ]
     },
     "execution_count": 30,
     "metadata": {},
     "output_type": "execute_result"
    }
   ],
   "source": [
    "p99 = np.percentile(poblacion_superficie['fuera_de_rango'], 99)\n",
    "p99"
   ]
  },
  {
   "cell_type": "code",
   "execution_count": 37,
   "metadata": {},
   "outputs": [
    {
     "name": "stdout",
     "output_type": "stream",
     "text": [
      "<class 'pandas.core.frame.DataFrame'>\n"
     ]
    }
   ],
   "source": [
    "print(type(poblacion_superficie))"
   ]
  },
  {
   "cell_type": "code",
   "execution_count": 33,
   "metadata": {},
   "outputs": [
    {
     "data": {
      "text/html": [
       "<div>\n",
       "<style scoped>\n",
       "    .dataframe tbody tr th:only-of-type {\n",
       "        vertical-align: middle;\n",
       "    }\n",
       "\n",
       "    .dataframe tbody tr th {\n",
       "        vertical-align: top;\n",
       "    }\n",
       "\n",
       "    .dataframe thead th {\n",
       "        text-align: right;\n",
       "    }\n",
       "</style>\n",
       "<table border=\"1\" class=\"dataframe\">\n",
       "  <thead>\n",
       "    <tr style=\"text-align: right;\">\n",
       "      <th></th>\n",
       "      <th>provincia</th>\n",
       "      <th>anio</th>\n",
       "      <th>poblacion_total</th>\n",
       "      <th>poblacion_varones</th>\n",
       "      <th>poblacion_mujeres</th>\n",
       "      <th>provincia_id</th>\n",
       "      <th>hogares</th>\n",
       "      <th>viviendas_particulares</th>\n",
       "      <th>viviendas_particulares_habitadas</th>\n",
       "      <th>superficie_km2</th>\n",
       "      <th>densidad_de_poblacion</th>\n",
       "      <th>fuera_de_rango</th>\n",
       "    </tr>\n",
       "  </thead>\n",
       "  <tbody>\n",
       "    <tr>\n",
       "      <th>0</th>\n",
       "      <td>Capital Federal</td>\n",
       "      <td>2010</td>\n",
       "      <td>3028481</td>\n",
       "      <td>1405566</td>\n",
       "      <td>1622915</td>\n",
       "      <td>2</td>\n",
       "      <td>1150134</td>\n",
       "      <td>1423973</td>\n",
       "      <td>1082998</td>\n",
       "      <td>200</td>\n",
       "      <td>15142.405000</td>\n",
       "      <td>4.731966</td>\n",
       "    </tr>\n",
       "    <tr>\n",
       "      <th>1</th>\n",
       "      <td>Capital Federal</td>\n",
       "      <td>2011</td>\n",
       "      <td>3033639</td>\n",
       "      <td>1409835</td>\n",
       "      <td>1623804</td>\n",
       "      <td>2</td>\n",
       "      <td>1150134</td>\n",
       "      <td>1423973</td>\n",
       "      <td>1082998</td>\n",
       "      <td>200</td>\n",
       "      <td>15168.195000</td>\n",
       "      <td>4.740389</td>\n",
       "    </tr>\n",
       "    <tr>\n",
       "      <th>2</th>\n",
       "      <td>Capital Federal</td>\n",
       "      <td>2012</td>\n",
       "      <td>3038860</td>\n",
       "      <td>1414105</td>\n",
       "      <td>1624755</td>\n",
       "      <td>2</td>\n",
       "      <td>1150134</td>\n",
       "      <td>1423973</td>\n",
       "      <td>1082998</td>\n",
       "      <td>200</td>\n",
       "      <td>15194.300000</td>\n",
       "      <td>4.748916</td>\n",
       "    </tr>\n",
       "    <tr>\n",
       "      <th>3</th>\n",
       "      <td>Capital Federal</td>\n",
       "      <td>2013</td>\n",
       "      <td>3044076</td>\n",
       "      <td>1418339</td>\n",
       "      <td>1625737</td>\n",
       "      <td>2</td>\n",
       "      <td>1150134</td>\n",
       "      <td>1423973</td>\n",
       "      <td>1082998</td>\n",
       "      <td>200</td>\n",
       "      <td>15220.380000</td>\n",
       "      <td>4.757434</td>\n",
       "    </tr>\n",
       "    <tr>\n",
       "      <th>4</th>\n",
       "      <td>Capital Federal</td>\n",
       "      <td>2014</td>\n",
       "      <td>3049229</td>\n",
       "      <td>1422507</td>\n",
       "      <td>1626722</td>\n",
       "      <td>2</td>\n",
       "      <td>1150134</td>\n",
       "      <td>1423973</td>\n",
       "      <td>1082998</td>\n",
       "      <td>200</td>\n",
       "      <td>15246.145000</td>\n",
       "      <td>4.765849</td>\n",
       "    </tr>\n",
       "    <tr>\n",
       "      <th>...</th>\n",
       "      <td>...</td>\n",
       "      <td>...</td>\n",
       "      <td>...</td>\n",
       "      <td>...</td>\n",
       "      <td>...</td>\n",
       "      <td>...</td>\n",
       "      <td>...</td>\n",
       "      <td>...</td>\n",
       "      <td>...</td>\n",
       "      <td>...</td>\n",
       "      <td>...</td>\n",
       "      <td>...</td>\n",
       "    </tr>\n",
       "    <tr>\n",
       "      <th>723</th>\n",
       "      <td>Tierra del Fuego</td>\n",
       "      <td>2020</td>\n",
       "      <td>173432</td>\n",
       "      <td>88412</td>\n",
       "      <td>85020</td>\n",
       "      <td>94</td>\n",
       "      <td>38956</td>\n",
       "      <td>43360</td>\n",
       "      <td>36689</td>\n",
       "      <td>1002445</td>\n",
       "      <td>0.173009</td>\n",
       "      <td>-0.213796</td>\n",
       "    </tr>\n",
       "    <tr>\n",
       "      <th>724</th>\n",
       "      <td>Tierra del Fuego</td>\n",
       "      <td>2021</td>\n",
       "      <td>177697</td>\n",
       "      <td>90565</td>\n",
       "      <td>87132</td>\n",
       "      <td>94</td>\n",
       "      <td>38956</td>\n",
       "      <td>43360</td>\n",
       "      <td>36689</td>\n",
       "      <td>1002445</td>\n",
       "      <td>0.177264</td>\n",
       "      <td>-0.213795</td>\n",
       "    </tr>\n",
       "    <tr>\n",
       "      <th>725</th>\n",
       "      <td>Tierra del Fuego</td>\n",
       "      <td>2022</td>\n",
       "      <td>181983</td>\n",
       "      <td>92727</td>\n",
       "      <td>89256</td>\n",
       "      <td>94</td>\n",
       "      <td>38956</td>\n",
       "      <td>43360</td>\n",
       "      <td>36689</td>\n",
       "      <td>1002445</td>\n",
       "      <td>0.181539</td>\n",
       "      <td>-0.213793</td>\n",
       "    </tr>\n",
       "    <tr>\n",
       "      <th>726</th>\n",
       "      <td>Tierra del Fuego</td>\n",
       "      <td>2023</td>\n",
       "      <td>186285</td>\n",
       "      <td>94895</td>\n",
       "      <td>91390</td>\n",
       "      <td>94</td>\n",
       "      <td>38956</td>\n",
       "      <td>43360</td>\n",
       "      <td>36689</td>\n",
       "      <td>1002445</td>\n",
       "      <td>0.185831</td>\n",
       "      <td>-0.213792</td>\n",
       "    </tr>\n",
       "    <tr>\n",
       "      <th>727</th>\n",
       "      <td>Tierra del Fuego</td>\n",
       "      <td>2024</td>\n",
       "      <td>190601</td>\n",
       "      <td>97068</td>\n",
       "      <td>93533</td>\n",
       "      <td>94</td>\n",
       "      <td>38956</td>\n",
       "      <td>43360</td>\n",
       "      <td>36689</td>\n",
       "      <td>1002445</td>\n",
       "      <td>0.190136</td>\n",
       "      <td>-0.213791</td>\n",
       "    </tr>\n",
       "  </tbody>\n",
       "</table>\n",
       "<p>360 rows × 12 columns</p>\n",
       "</div>"
      ],
      "text/plain": [
       "            provincia  anio  poblacion_total  poblacion_varones  \\\n",
       "0     Capital Federal  2010          3028481            1405566   \n",
       "1     Capital Federal  2011          3033639            1409835   \n",
       "2     Capital Federal  2012          3038860            1414105   \n",
       "3     Capital Federal  2013          3044076            1418339   \n",
       "4     Capital Federal  2014          3049229            1422507   \n",
       "..                ...   ...              ...                ...   \n",
       "723  Tierra del Fuego  2020           173432              88412   \n",
       "724  Tierra del Fuego  2021           177697              90565   \n",
       "725  Tierra del Fuego  2022           181983              92727   \n",
       "726  Tierra del Fuego  2023           186285              94895   \n",
       "727  Tierra del Fuego  2024           190601              97068   \n",
       "\n",
       "     poblacion_mujeres  provincia_id  hogares  viviendas_particulares  \\\n",
       "0              1622915             2  1150134                 1423973   \n",
       "1              1623804             2  1150134                 1423973   \n",
       "2              1624755             2  1150134                 1423973   \n",
       "3              1625737             2  1150134                 1423973   \n",
       "4              1626722             2  1150134                 1423973   \n",
       "..                 ...           ...      ...                     ...   \n",
       "723              85020            94    38956                   43360   \n",
       "724              87132            94    38956                   43360   \n",
       "725              89256            94    38956                   43360   \n",
       "726              91390            94    38956                   43360   \n",
       "727              93533            94    38956                   43360   \n",
       "\n",
       "     viviendas_particulares_habitadas  superficie_km2  densidad_de_poblacion  \\\n",
       "0                             1082998             200           15142.405000   \n",
       "1                             1082998             200           15168.195000   \n",
       "2                             1082998             200           15194.300000   \n",
       "3                             1082998             200           15220.380000   \n",
       "4                             1082998             200           15246.145000   \n",
       "..                                ...             ...                    ...   \n",
       "723                             36689         1002445               0.173009   \n",
       "724                             36689         1002445               0.177264   \n",
       "725                             36689         1002445               0.181539   \n",
       "726                             36689         1002445               0.185831   \n",
       "727                             36689         1002445               0.190136   \n",
       "\n",
       "     fuera_de_rango  \n",
       "0          4.731966  \n",
       "1          4.740389  \n",
       "2          4.748916  \n",
       "3          4.757434  \n",
       "4          4.765849  \n",
       "..              ...  \n",
       "723       -0.213796  \n",
       "724       -0.213795  \n",
       "725       -0.213793  \n",
       "726       -0.213792  \n",
       "727       -0.213791  \n",
       "\n",
       "[360 rows x 12 columns]"
      ]
     },
     "execution_count": 33,
     "metadata": {},
     "output_type": "execute_result"
    }
   ],
   "source": [
    "datos_reales = poblacion_superficie[poblacion_superficie[\"anio\"] <= 2024]\n",
    "datos_reales"
   ]
  },
  {
   "cell_type": "code",
   "execution_count": 34,
   "metadata": {},
   "outputs": [
    {
     "data": {
      "text/html": [
       "<div>\n",
       "<style scoped>\n",
       "    .dataframe tbody tr th:only-of-type {\n",
       "        vertical-align: middle;\n",
       "    }\n",
       "\n",
       "    .dataframe tbody tr th {\n",
       "        vertical-align: top;\n",
       "    }\n",
       "\n",
       "    .dataframe thead th {\n",
       "        text-align: right;\n",
       "    }\n",
       "</style>\n",
       "<table border=\"1\" class=\"dataframe\">\n",
       "  <thead>\n",
       "    <tr style=\"text-align: right;\">\n",
       "      <th></th>\n",
       "      <th>anio</th>\n",
       "      <th>poblacion_total</th>\n",
       "      <th>poblacion_varones</th>\n",
       "      <th>poblacion_mujeres</th>\n",
       "      <th>provincia_id</th>\n",
       "      <th>hogares</th>\n",
       "      <th>viviendas_particulares</th>\n",
       "      <th>viviendas_particulares_habitadas</th>\n",
       "      <th>superficie_km2</th>\n",
       "      <th>densidad_de_poblacion</th>\n",
       "      <th>fuera_de_rango</th>\n",
       "    </tr>\n",
       "  </thead>\n",
       "  <tbody>\n",
       "    <tr>\n",
       "      <th>count</th>\n",
       "      <td>360.000000</td>\n",
       "      <td>3.600000e+02</td>\n",
       "      <td>3.600000e+02</td>\n",
       "      <td>3.600000e+02</td>\n",
       "      <td>360.000000</td>\n",
       "      <td>3.600000e+02</td>\n",
       "      <td>3.600000e+02</td>\n",
       "      <td>3.600000e+02</td>\n",
       "      <td>3.600000e+02</td>\n",
       "      <td>360.000000</td>\n",
       "      <td>360.000000</td>\n",
       "    </tr>\n",
       "    <tr>\n",
       "      <th>mean</th>\n",
       "      <td>2017.000000</td>\n",
       "      <td>1.833329e+06</td>\n",
       "      <td>8.988734e+05</td>\n",
       "      <td>9.344560e+05</td>\n",
       "      <td>48.000000</td>\n",
       "      <td>5.071531e+05</td>\n",
       "      <td>5.755052e+05</td>\n",
       "      <td>4.715628e+05</td>\n",
       "      <td>1.567198e+05</td>\n",
       "      <td>652.251859</td>\n",
       "      <td>-0.000814</td>\n",
       "    </tr>\n",
       "    <tr>\n",
       "      <th>std</th>\n",
       "      <td>4.326507</td>\n",
       "      <td>3.308598e+06</td>\n",
       "      <td>1.619239e+06</td>\n",
       "      <td>1.689496e+06</td>\n",
       "      <td>27.727283</td>\n",
       "      <td>9.441729e+05</td>\n",
       "      <td>1.066057e+06</td>\n",
       "      <td>8.733417e+05</td>\n",
       "      <td>1.902680e+05</td>\n",
       "      <td>3059.790564</td>\n",
       "      <td>0.999390</td>\n",
       "    </tr>\n",
       "    <tr>\n",
       "      <th>min</th>\n",
       "      <td>2010.000000</td>\n",
       "      <td>1.316610e+05</td>\n",
       "      <td>6.723500e+04</td>\n",
       "      <td>6.442600e+04</td>\n",
       "      <td>2.000000</td>\n",
       "      <td>3.895600e+04</td>\n",
       "      <td>4.336000e+04</td>\n",
       "      <td>3.668900e+04</td>\n",
       "      <td>2.000000e+02</td>\n",
       "      <td>0.131340</td>\n",
       "      <td>-0.213810</td>\n",
       "    </tr>\n",
       "    <tr>\n",
       "      <th>25%</th>\n",
       "      <td>2013.000000</td>\n",
       "      <td>5.263175e+05</td>\n",
       "      <td>2.618822e+05</td>\n",
       "      <td>2.647360e+05</td>\n",
       "      <td>25.000000</td>\n",
       "      <td>1.369578e+05</td>\n",
       "      <td>1.513558e+05</td>\n",
       "      <td>1.270420e+05</td>\n",
       "      <td>7.827275e+04</td>\n",
       "      <td>4.047598</td>\n",
       "      <td>-0.212531</td>\n",
       "    </tr>\n",
       "    <tr>\n",
       "      <th>50%</th>\n",
       "      <td>2017.000000</td>\n",
       "      <td>8.465620e+05</td>\n",
       "      <td>4.213460e+05</td>\n",
       "      <td>4.252160e+05</td>\n",
       "      <td>48.000000</td>\n",
       "      <td>2.086070e+05</td>\n",
       "      <td>2.393215e+05</td>\n",
       "      <td>1.942515e+05</td>\n",
       "      <td>1.011175e+05</td>\n",
       "      <td>8.637095</td>\n",
       "      <td>-0.211032</td>\n",
       "    </tr>\n",
       "    <tr>\n",
       "      <th>75%</th>\n",
       "      <td>2021.000000</td>\n",
       "      <td>1.490281e+06</td>\n",
       "      <td>7.350465e+05</td>\n",
       "      <td>7.547408e+05</td>\n",
       "      <td>71.000000</td>\n",
       "      <td>3.701838e+05</td>\n",
       "      <td>4.034278e+05</td>\n",
       "      <td>3.411782e+05</td>\n",
       "      <td>1.579462e+05</td>\n",
       "      <td>18.763695</td>\n",
       "      <td>-0.207724</td>\n",
       "    </tr>\n",
       "    <tr>\n",
       "      <th>max</th>\n",
       "      <td>2024.000000</td>\n",
       "      <td>1.820085e+07</td>\n",
       "      <td>8.943682e+06</td>\n",
       "      <td>9.257169e+06</td>\n",
       "      <td>94.000000</td>\n",
       "      <td>4.789484e+06</td>\n",
       "      <td>5.377786e+06</td>\n",
       "      <td>4.425193e+06</td>\n",
       "      <td>1.002445e+06</td>\n",
       "      <td>15427.415000</td>\n",
       "      <td>4.825056</td>\n",
       "    </tr>\n",
       "  </tbody>\n",
       "</table>\n",
       "</div>"
      ],
      "text/plain": [
       "              anio  poblacion_total  poblacion_varones  poblacion_mujeres  \\\n",
       "count   360.000000     3.600000e+02       3.600000e+02       3.600000e+02   \n",
       "mean   2017.000000     1.833329e+06       8.988734e+05       9.344560e+05   \n",
       "std       4.326507     3.308598e+06       1.619239e+06       1.689496e+06   \n",
       "min    2010.000000     1.316610e+05       6.723500e+04       6.442600e+04   \n",
       "25%    2013.000000     5.263175e+05       2.618822e+05       2.647360e+05   \n",
       "50%    2017.000000     8.465620e+05       4.213460e+05       4.252160e+05   \n",
       "75%    2021.000000     1.490281e+06       7.350465e+05       7.547408e+05   \n",
       "max    2024.000000     1.820085e+07       8.943682e+06       9.257169e+06   \n",
       "\n",
       "       provincia_id       hogares  viviendas_particulares  \\\n",
       "count    360.000000  3.600000e+02            3.600000e+02   \n",
       "mean      48.000000  5.071531e+05            5.755052e+05   \n",
       "std       27.727283  9.441729e+05            1.066057e+06   \n",
       "min        2.000000  3.895600e+04            4.336000e+04   \n",
       "25%       25.000000  1.369578e+05            1.513558e+05   \n",
       "50%       48.000000  2.086070e+05            2.393215e+05   \n",
       "75%       71.000000  3.701838e+05            4.034278e+05   \n",
       "max       94.000000  4.789484e+06            5.377786e+06   \n",
       "\n",
       "       viviendas_particulares_habitadas  superficie_km2  \\\n",
       "count                      3.600000e+02    3.600000e+02   \n",
       "mean                       4.715628e+05    1.567198e+05   \n",
       "std                        8.733417e+05    1.902680e+05   \n",
       "min                        3.668900e+04    2.000000e+02   \n",
       "25%                        1.270420e+05    7.827275e+04   \n",
       "50%                        1.942515e+05    1.011175e+05   \n",
       "75%                        3.411782e+05    1.579462e+05   \n",
       "max                        4.425193e+06    1.002445e+06   \n",
       "\n",
       "       densidad_de_poblacion  fuera_de_rango  \n",
       "count             360.000000      360.000000  \n",
       "mean              652.251859       -0.000814  \n",
       "std              3059.790564        0.999390  \n",
       "min                 0.131340       -0.213810  \n",
       "25%                 4.047598       -0.212531  \n",
       "50%                 8.637095       -0.211032  \n",
       "75%                18.763695       -0.207724  \n",
       "max             15427.415000        4.825056  "
      ]
     },
     "execution_count": 34,
     "metadata": {},
     "output_type": "execute_result"
    }
   ],
   "source": [
    "datos_reales.describe()"
   ]
  },
  {
   "cell_type": "code",
   "execution_count": 35,
   "metadata": {},
   "outputs": [
    {
     "data": {
      "text/html": [
       "<div>\n",
       "<style scoped>\n",
       "    .dataframe tbody tr th:only-of-type {\n",
       "        vertical-align: middle;\n",
       "    }\n",
       "\n",
       "    .dataframe tbody tr th {\n",
       "        vertical-align: top;\n",
       "    }\n",
       "\n",
       "    .dataframe thead th {\n",
       "        text-align: right;\n",
       "    }\n",
       "</style>\n",
       "<table border=\"1\" class=\"dataframe\">\n",
       "  <thead>\n",
       "    <tr style=\"text-align: right;\">\n",
       "      <th></th>\n",
       "      <th>provincia</th>\n",
       "      <th>anio</th>\n",
       "      <th>poblacion_total</th>\n",
       "      <th>poblacion_varones</th>\n",
       "      <th>poblacion_mujeres</th>\n",
       "      <th>provincia_id</th>\n",
       "      <th>hogares</th>\n",
       "      <th>viviendas_particulares</th>\n",
       "      <th>viviendas_particulares_habitadas</th>\n",
       "      <th>superficie_km2</th>\n",
       "      <th>densidad_de_poblacion</th>\n",
       "      <th>fuera_de_rango</th>\n",
       "    </tr>\n",
       "  </thead>\n",
       "  <tbody>\n",
       "    <tr>\n",
       "      <th>15</th>\n",
       "      <td>Capital Federal</td>\n",
       "      <td>2025</td>\n",
       "      <td>3086680</td>\n",
       "      <td>1456560</td>\n",
       "      <td>1630120</td>\n",
       "      <td>2</td>\n",
       "      <td>1150134</td>\n",
       "      <td>1423973</td>\n",
       "      <td>1082998</td>\n",
       "      <td>200</td>\n",
       "      <td>15433.400000</td>\n",
       "      <td>4.827011</td>\n",
       "    </tr>\n",
       "    <tr>\n",
       "      <th>16</th>\n",
       "      <td>Capital Federal</td>\n",
       "      <td>2026</td>\n",
       "      <td>3087338</td>\n",
       "      <td>1458111</td>\n",
       "      <td>1629227</td>\n",
       "      <td>2</td>\n",
       "      <td>1150134</td>\n",
       "      <td>1423973</td>\n",
       "      <td>1082998</td>\n",
       "      <td>200</td>\n",
       "      <td>15436.690000</td>\n",
       "      <td>4.828085</td>\n",
       "    </tr>\n",
       "    <tr>\n",
       "      <th>17</th>\n",
       "      <td>Capital Federal</td>\n",
       "      <td>2027</td>\n",
       "      <td>3087434</td>\n",
       "      <td>1459359</td>\n",
       "      <td>1628075</td>\n",
       "      <td>2</td>\n",
       "      <td>1150134</td>\n",
       "      <td>1423973</td>\n",
       "      <td>1082998</td>\n",
       "      <td>200</td>\n",
       "      <td>15437.170000</td>\n",
       "      <td>4.828242</td>\n",
       "    </tr>\n",
       "    <tr>\n",
       "      <th>18</th>\n",
       "      <td>Capital Federal</td>\n",
       "      <td>2028</td>\n",
       "      <td>3086973</td>\n",
       "      <td>1460309</td>\n",
       "      <td>1626664</td>\n",
       "      <td>2</td>\n",
       "      <td>1150134</td>\n",
       "      <td>1423973</td>\n",
       "      <td>1082998</td>\n",
       "      <td>200</td>\n",
       "      <td>15434.865000</td>\n",
       "      <td>4.827489</td>\n",
       "    </tr>\n",
       "    <tr>\n",
       "      <th>19</th>\n",
       "      <td>Capital Federal</td>\n",
       "      <td>2029</td>\n",
       "      <td>3085971</td>\n",
       "      <td>1460970</td>\n",
       "      <td>1625001</td>\n",
       "      <td>2</td>\n",
       "      <td>1150134</td>\n",
       "      <td>1423973</td>\n",
       "      <td>1082998</td>\n",
       "      <td>200</td>\n",
       "      <td>15429.855000</td>\n",
       "      <td>4.825853</td>\n",
       "    </tr>\n",
       "    <tr>\n",
       "      <th>...</th>\n",
       "      <td>...</td>\n",
       "      <td>...</td>\n",
       "      <td>...</td>\n",
       "      <td>...</td>\n",
       "      <td>...</td>\n",
       "      <td>...</td>\n",
       "      <td>...</td>\n",
       "      <td>...</td>\n",
       "      <td>...</td>\n",
       "      <td>...</td>\n",
       "      <td>...</td>\n",
       "      <td>...</td>\n",
       "    </tr>\n",
       "    <tr>\n",
       "      <th>739</th>\n",
       "      <td>Tierra del Fuego</td>\n",
       "      <td>2036</td>\n",
       "      <td>241593</td>\n",
       "      <td>122567</td>\n",
       "      <td>119026</td>\n",
       "      <td>94</td>\n",
       "      <td>38956</td>\n",
       "      <td>43360</td>\n",
       "      <td>36689</td>\n",
       "      <td>1002445</td>\n",
       "      <td>0.241004</td>\n",
       "      <td>-0.213774</td>\n",
       "    </tr>\n",
       "    <tr>\n",
       "      <th>740</th>\n",
       "      <td>Tierra del Fuego</td>\n",
       "      <td>2037</td>\n",
       "      <td>245734</td>\n",
       "      <td>124625</td>\n",
       "      <td>121109</td>\n",
       "      <td>94</td>\n",
       "      <td>38956</td>\n",
       "      <td>43360</td>\n",
       "      <td>36689</td>\n",
       "      <td>1002445</td>\n",
       "      <td>0.245135</td>\n",
       "      <td>-0.213773</td>\n",
       "    </tr>\n",
       "    <tr>\n",
       "      <th>741</th>\n",
       "      <td>Tierra del Fuego</td>\n",
       "      <td>2038</td>\n",
       "      <td>249853</td>\n",
       "      <td>126670</td>\n",
       "      <td>123183</td>\n",
       "      <td>94</td>\n",
       "      <td>38956</td>\n",
       "      <td>43360</td>\n",
       "      <td>36689</td>\n",
       "      <td>1002445</td>\n",
       "      <td>0.249244</td>\n",
       "      <td>-0.213771</td>\n",
       "    </tr>\n",
       "    <tr>\n",
       "      <th>742</th>\n",
       "      <td>Tierra del Fuego</td>\n",
       "      <td>2039</td>\n",
       "      <td>253948</td>\n",
       "      <td>128702</td>\n",
       "      <td>125246</td>\n",
       "      <td>94</td>\n",
       "      <td>38956</td>\n",
       "      <td>43360</td>\n",
       "      <td>36689</td>\n",
       "      <td>1002445</td>\n",
       "      <td>0.253329</td>\n",
       "      <td>-0.213770</td>\n",
       "    </tr>\n",
       "    <tr>\n",
       "      <th>743</th>\n",
       "      <td>Tierra del Fuego</td>\n",
       "      <td>2040</td>\n",
       "      <td>258020</td>\n",
       "      <td>130721</td>\n",
       "      <td>127299</td>\n",
       "      <td>94</td>\n",
       "      <td>38956</td>\n",
       "      <td>43360</td>\n",
       "      <td>36689</td>\n",
       "      <td>1002445</td>\n",
       "      <td>0.257391</td>\n",
       "      <td>-0.213769</td>\n",
       "    </tr>\n",
       "  </tbody>\n",
       "</table>\n",
       "<p>384 rows × 12 columns</p>\n",
       "</div>"
      ],
      "text/plain": [
       "            provincia  anio  poblacion_total  poblacion_varones  \\\n",
       "15    Capital Federal  2025          3086680            1456560   \n",
       "16    Capital Federal  2026          3087338            1458111   \n",
       "17    Capital Federal  2027          3087434            1459359   \n",
       "18    Capital Federal  2028          3086973            1460309   \n",
       "19    Capital Federal  2029          3085971            1460970   \n",
       "..                ...   ...              ...                ...   \n",
       "739  Tierra del Fuego  2036           241593             122567   \n",
       "740  Tierra del Fuego  2037           245734             124625   \n",
       "741  Tierra del Fuego  2038           249853             126670   \n",
       "742  Tierra del Fuego  2039           253948             128702   \n",
       "743  Tierra del Fuego  2040           258020             130721   \n",
       "\n",
       "     poblacion_mujeres  provincia_id  hogares  viviendas_particulares  \\\n",
       "15             1630120             2  1150134                 1423973   \n",
       "16             1629227             2  1150134                 1423973   \n",
       "17             1628075             2  1150134                 1423973   \n",
       "18             1626664             2  1150134                 1423973   \n",
       "19             1625001             2  1150134                 1423973   \n",
       "..                 ...           ...      ...                     ...   \n",
       "739             119026            94    38956                   43360   \n",
       "740             121109            94    38956                   43360   \n",
       "741             123183            94    38956                   43360   \n",
       "742             125246            94    38956                   43360   \n",
       "743             127299            94    38956                   43360   \n",
       "\n",
       "     viviendas_particulares_habitadas  superficie_km2  densidad_de_poblacion  \\\n",
       "15                            1082998             200           15433.400000   \n",
       "16                            1082998             200           15436.690000   \n",
       "17                            1082998             200           15437.170000   \n",
       "18                            1082998             200           15434.865000   \n",
       "19                            1082998             200           15429.855000   \n",
       "..                                ...             ...                    ...   \n",
       "739                             36689         1002445               0.241004   \n",
       "740                             36689         1002445               0.245135   \n",
       "741                             36689         1002445               0.249244   \n",
       "742                             36689         1002445               0.253329   \n",
       "743                             36689         1002445               0.257391   \n",
       "\n",
       "     fuera_de_rango  \n",
       "15         4.827011  \n",
       "16         4.828085  \n",
       "17         4.828242  \n",
       "18         4.827489  \n",
       "19         4.825853  \n",
       "..              ...  \n",
       "739       -0.213774  \n",
       "740       -0.213773  \n",
       "741       -0.213771  \n",
       "742       -0.213770  \n",
       "743       -0.213769  \n",
       "\n",
       "[384 rows x 12 columns]"
      ]
     },
     "execution_count": 35,
     "metadata": {},
     "output_type": "execute_result"
    }
   ],
   "source": [
    "datos_futuros = poblacion_superficie[poblacion_superficie[\"anio\"] > 2024]\n",
    "datos_futuros"
   ]
  },
  {
   "cell_type": "code",
   "execution_count": 36,
   "metadata": {},
   "outputs": [
    {
     "data": {
      "text/html": [
       "<div>\n",
       "<style scoped>\n",
       "    .dataframe tbody tr th:only-of-type {\n",
       "        vertical-align: middle;\n",
       "    }\n",
       "\n",
       "    .dataframe tbody tr th {\n",
       "        vertical-align: top;\n",
       "    }\n",
       "\n",
       "    .dataframe thead th {\n",
       "        text-align: right;\n",
       "    }\n",
       "</style>\n",
       "<table border=\"1\" class=\"dataframe\">\n",
       "  <thead>\n",
       "    <tr style=\"text-align: right;\">\n",
       "      <th></th>\n",
       "      <th>anio</th>\n",
       "      <th>poblacion_total</th>\n",
       "      <th>poblacion_varones</th>\n",
       "      <th>poblacion_mujeres</th>\n",
       "      <th>provincia_id</th>\n",
       "      <th>hogares</th>\n",
       "      <th>viviendas_particulares</th>\n",
       "      <th>viviendas_particulares_habitadas</th>\n",
       "      <th>superficie_km2</th>\n",
       "      <th>densidad_de_poblacion</th>\n",
       "      <th>fuera_de_rango</th>\n",
       "    </tr>\n",
       "  </thead>\n",
       "  <tbody>\n",
       "    <tr>\n",
       "      <th>count</th>\n",
       "      <td>384.000000</td>\n",
       "      <td>3.840000e+02</td>\n",
       "      <td>3.840000e+02</td>\n",
       "      <td>3.840000e+02</td>\n",
       "      <td>384.00000</td>\n",
       "      <td>3.840000e+02</td>\n",
       "      <td>3.840000e+02</td>\n",
       "      <td>3.840000e+02</td>\n",
       "      <td>3.840000e+02</td>\n",
       "      <td>384.000000</td>\n",
       "      <td>384.000000</td>\n",
       "    </tr>\n",
       "    <tr>\n",
       "      <th>mean</th>\n",
       "      <td>2032.500000</td>\n",
       "      <td>2.093432e+06</td>\n",
       "      <td>1.031119e+06</td>\n",
       "      <td>1.062313e+06</td>\n",
       "      <td>48.00000</td>\n",
       "      <td>5.071531e+05</td>\n",
       "      <td>5.755052e+05</td>\n",
       "      <td>4.715628e+05</td>\n",
       "      <td>1.567198e+05</td>\n",
       "      <td>657.079577</td>\n",
       "      <td>0.000763</td>\n",
       "    </tr>\n",
       "    <tr>\n",
       "      <th>std</th>\n",
       "      <td>4.615786</td>\n",
       "      <td>3.774591e+06</td>\n",
       "      <td>1.857544e+06</td>\n",
       "      <td>1.917131e+06</td>\n",
       "      <td>27.72487</td>\n",
       "      <td>9.440907e+05</td>\n",
       "      <td>1.065964e+06</td>\n",
       "      <td>8.732657e+05</td>\n",
       "      <td>1.902514e+05</td>\n",
       "      <td>3071.384817</td>\n",
       "      <td>1.003177</td>\n",
       "    </tr>\n",
       "    <tr>\n",
       "      <th>min</th>\n",
       "      <td>2025.000000</td>\n",
       "      <td>1.949260e+05</td>\n",
       "      <td>9.924400e+04</td>\n",
       "      <td>9.568200e+04</td>\n",
       "      <td>2.00000</td>\n",
       "      <td>3.895600e+04</td>\n",
       "      <td>4.336000e+04</td>\n",
       "      <td>3.668900e+04</td>\n",
       "      <td>2.000000e+02</td>\n",
       "      <td>0.194451</td>\n",
       "      <td>-0.213789</td>\n",
       "    </tr>\n",
       "    <tr>\n",
       "      <th>25%</th>\n",
       "      <td>2028.750000</td>\n",
       "      <td>6.255470e+05</td>\n",
       "      <td>3.109422e+05</td>\n",
       "      <td>3.146048e+05</td>\n",
       "      <td>25.00000</td>\n",
       "      <td>1.369578e+05</td>\n",
       "      <td>1.513558e+05</td>\n",
       "      <td>1.270420e+05</td>\n",
       "      <td>7.827275e+04</td>\n",
       "      <td>4.640967</td>\n",
       "      <td>-0.212337</td>\n",
       "    </tr>\n",
       "    <tr>\n",
       "      <th>50%</th>\n",
       "      <td>2032.500000</td>\n",
       "      <td>9.766725e+05</td>\n",
       "      <td>4.869420e+05</td>\n",
       "      <td>4.897305e+05</td>\n",
       "      <td>48.00000</td>\n",
       "      <td>2.086070e+05</td>\n",
       "      <td>2.393215e+05</td>\n",
       "      <td>1.942515e+05</td>\n",
       "      <td>1.011175e+05</td>\n",
       "      <td>10.091980</td>\n",
       "      <td>-0.210556</td>\n",
       "    </tr>\n",
       "    <tr>\n",
       "      <th>75%</th>\n",
       "      <td>2036.250000</td>\n",
       "      <td>1.744015e+06</td>\n",
       "      <td>8.626890e+05</td>\n",
       "      <td>8.813260e+05</td>\n",
       "      <td>71.00000</td>\n",
       "      <td>3.701838e+05</td>\n",
       "      <td>4.034278e+05</td>\n",
       "      <td>3.411782e+05</td>\n",
       "      <td>1.579462e+05</td>\n",
       "      <td>21.188889</td>\n",
       "      <td>-0.206932</td>\n",
       "    </tr>\n",
       "    <tr>\n",
       "      <th>max</th>\n",
       "      <td>2040.000000</td>\n",
       "      <td>2.050365e+07</td>\n",
       "      <td>1.011844e+07</td>\n",
       "      <td>1.038522e+07</td>\n",
       "      <td>94.00000</td>\n",
       "      <td>4.789484e+06</td>\n",
       "      <td>5.377786e+06</td>\n",
       "      <td>4.425193e+06</td>\n",
       "      <td>1.002445e+06</td>\n",
       "      <td>15437.170000</td>\n",
       "      <td>4.828242</td>\n",
       "    </tr>\n",
       "  </tbody>\n",
       "</table>\n",
       "</div>"
      ],
      "text/plain": [
       "              anio  poblacion_total  poblacion_varones  poblacion_mujeres  \\\n",
       "count   384.000000     3.840000e+02       3.840000e+02       3.840000e+02   \n",
       "mean   2032.500000     2.093432e+06       1.031119e+06       1.062313e+06   \n",
       "std       4.615786     3.774591e+06       1.857544e+06       1.917131e+06   \n",
       "min    2025.000000     1.949260e+05       9.924400e+04       9.568200e+04   \n",
       "25%    2028.750000     6.255470e+05       3.109422e+05       3.146048e+05   \n",
       "50%    2032.500000     9.766725e+05       4.869420e+05       4.897305e+05   \n",
       "75%    2036.250000     1.744015e+06       8.626890e+05       8.813260e+05   \n",
       "max    2040.000000     2.050365e+07       1.011844e+07       1.038522e+07   \n",
       "\n",
       "       provincia_id       hogares  viviendas_particulares  \\\n",
       "count     384.00000  3.840000e+02            3.840000e+02   \n",
       "mean       48.00000  5.071531e+05            5.755052e+05   \n",
       "std        27.72487  9.440907e+05            1.065964e+06   \n",
       "min         2.00000  3.895600e+04            4.336000e+04   \n",
       "25%        25.00000  1.369578e+05            1.513558e+05   \n",
       "50%        48.00000  2.086070e+05            2.393215e+05   \n",
       "75%        71.00000  3.701838e+05            4.034278e+05   \n",
       "max        94.00000  4.789484e+06            5.377786e+06   \n",
       "\n",
       "       viviendas_particulares_habitadas  superficie_km2  \\\n",
       "count                      3.840000e+02    3.840000e+02   \n",
       "mean                       4.715628e+05    1.567198e+05   \n",
       "std                        8.732657e+05    1.902514e+05   \n",
       "min                        3.668900e+04    2.000000e+02   \n",
       "25%                        1.270420e+05    7.827275e+04   \n",
       "50%                        1.942515e+05    1.011175e+05   \n",
       "75%                        3.411782e+05    1.579462e+05   \n",
       "max                        4.425193e+06    1.002445e+06   \n",
       "\n",
       "       densidad_de_poblacion  fuera_de_rango  \n",
       "count             384.000000      384.000000  \n",
       "mean              657.079577        0.000763  \n",
       "std              3071.384817        1.003177  \n",
       "min                 0.194451       -0.213789  \n",
       "25%                 4.640967       -0.212337  \n",
       "50%                10.091980       -0.210556  \n",
       "75%                21.188889       -0.206932  \n",
       "max             15437.170000        4.828242  "
      ]
     },
     "execution_count": 36,
     "metadata": {},
     "output_type": "execute_result"
    }
   ],
   "source": [
    "datos_futuros.describe()"
   ]
  },
  {
   "cell_type": "code",
   "execution_count": null,
   "metadata": {},
   "outputs": [],
   "source": [
    "import pandas as pd\n",
    "\n",
    "poblacion_superficie = pd.read_csv(\"poblacion_superficie.csv\") \n"
   ]
  },
  {
   "cell_type": "code",
   "execution_count": 38,
   "metadata": {},
   "outputs": [
    {
     "data": {
      "text/plain": [
       "count      744.000000\n",
       "mean       654.743585\n",
       "std       3063.717821\n",
       "min          0.131340\n",
       "25%          4.424877\n",
       "50%          9.406474\n",
       "75%         20.322919\n",
       "max      15437.170000\n",
       "Name: densidad_de_poblacion, dtype: float64"
      ]
     },
     "execution_count": 38,
     "metadata": {},
     "output_type": "execute_result"
    }
   ],
   "source": [
    "poblacion_superficie[\"densidad_de_poblacion\"].describe()"
   ]
  },
  {
   "cell_type": "code",
   "execution_count": 40,
   "metadata": {},
   "outputs": [
    {
     "data": {
      "text/plain": [
       "np.float64(5.730183352904034e-17)"
      ]
     },
     "execution_count": 40,
     "metadata": {},
     "output_type": "execute_result"
    }
   ],
   "source": [
    "poblacion_superficie[\"fuera_de_rango\"].mean()\n"
   ]
  },
  {
   "cell_type": "code",
   "execution_count": 41,
   "metadata": {},
   "outputs": [
    {
     "data": {
      "text/plain": [
       "np.float64(-0.21078026116816073)"
      ]
     },
     "execution_count": 41,
     "metadata": {},
     "output_type": "execute_result"
    }
   ],
   "source": [
    "poblacion_superficie[\"fuera_de_rango\"].median()"
   ]
  },
  {
   "cell_type": "code",
   "execution_count": 42,
   "metadata": {},
   "outputs": [
    {
     "data": {
      "text/plain": [
       "np.float64(1.0006727212331654)"
      ]
     },
     "execution_count": 42,
     "metadata": {},
     "output_type": "execute_result"
    }
   ],
   "source": [
    "poblacion_superficie[\"fuera_de_rango\"].std()"
   ]
  },
  {
   "cell_type": "code",
   "execution_count": null,
   "metadata": {},
   "outputs": [
    {
     "data": {
      "text/plain": [
       "np.float64(-0.2138097091693417)"
      ]
     },
     "execution_count": 43,
     "metadata": {},
     "output_type": "execute_result"
    }
   ],
   "source": [
    "poblacion_superficie[\"fuera_de_rango\"].min()"
   ]
  },
  {
   "cell_type": "code",
   "execution_count": 44,
   "metadata": {},
   "outputs": [
    {
     "data": {
      "text/plain": [
       "np.float64(4.828241937143234)"
      ]
     },
     "execution_count": 44,
     "metadata": {},
     "output_type": "execute_result"
    }
   ],
   "source": [
    "poblacion_superficie[\"fuera_de_rango\"].max()"
   ]
  },
  {
   "cell_type": "code",
   "execution_count": 45,
   "metadata": {},
   "outputs": [
    {
     "data": {
      "text/plain": [
       "count    7.440000e+02\n",
       "mean     1.567198e+05\n",
       "std      1.901313e+05\n",
       "min      2.000000e+02\n",
       "25%      7.827275e+04\n",
       "50%      1.011175e+05\n",
       "75%      1.579462e+05\n",
       "max      1.002445e+06\n",
       "Name: superficie_km2, dtype: float64"
      ]
     },
     "execution_count": 45,
     "metadata": {},
     "output_type": "execute_result"
    }
   ],
   "source": [
    "poblacion_superficie[\"superficie_km2\"].describe()"
   ]
  },
  {
   "cell_type": "code",
   "execution_count": 46,
   "metadata": {},
   "outputs": [
    {
     "data": {
      "text/plain": [
       "np.float64(156719.75)"
      ]
     },
     "execution_count": 46,
     "metadata": {},
     "output_type": "execute_result"
    }
   ],
   "source": [
    "poblacion_superficie[\"superficie_km2\"].mean()"
   ]
  },
  {
   "cell_type": "code",
   "execution_count": 47,
   "metadata": {},
   "outputs": [
    {
     "data": {
      "text/plain": [
       "np.float64(101117.5)"
      ]
     },
     "execution_count": 47,
     "metadata": {},
     "output_type": "execute_result"
    }
   ],
   "source": [
    "poblacion_superficie[\"superficie_km2\"].median()"
   ]
  },
  {
   "cell_type": "code",
   "execution_count": 48,
   "metadata": {},
   "outputs": [
    {
     "data": {
      "text/plain": [
       "np.float64(190131.34393628925)"
      ]
     },
     "execution_count": 48,
     "metadata": {},
     "output_type": "execute_result"
    }
   ],
   "source": [
    "poblacion_superficie[\"superficie_km2\"].std()"
   ]
  },
  {
   "cell_type": "code",
   "execution_count": 49,
   "metadata": {},
   "outputs": [
    {
     "data": {
      "text/plain": [
       "np.int64(200)"
      ]
     },
     "execution_count": 49,
     "metadata": {},
     "output_type": "execute_result"
    }
   ],
   "source": [
    "poblacion_superficie[\"superficie_km2\"].min()"
   ]
  },
  {
   "cell_type": "code",
   "execution_count": 50,
   "metadata": {},
   "outputs": [
    {
     "data": {
      "text/plain": [
       "np.int64(1002445)"
      ]
     },
     "execution_count": 50,
     "metadata": {},
     "output_type": "execute_result"
    }
   ],
   "source": [
    "poblacion_superficie[\"superficie_km2\"].max()"
   ]
  },
  {
   "cell_type": "code",
   "execution_count": null,
   "metadata": {},
   "outputs": [
    {
     "name": "stdout",
     "output_type": "stream",
     "text": [
      "Valor máximo de poblacion total: 20503653\n"
     ]
    }
   ],
   "source": [
    "max_poblacion_total = poblacion_superficie['poblacion_total'].max()\n",
    "print(\"Valor máximo de poblacion total:\", max_poblacion_total)"
   ]
  },
  {
   "cell_type": "code",
   "execution_count": 52,
   "metadata": {},
   "outputs": [
    {
     "name": "stdout",
     "output_type": "stream",
     "text": [
      "Valor mínimo de poblacion total: 131661\n"
     ]
    }
   ],
   "source": [
    "min_poblacion_total = poblacion_superficie['poblacion_total'].min()\n",
    "print(\"Valor mínimo de poblacion total:\", min_poblacion_total)"
   ]
  },
  {
   "cell_type": "code",
   "execution_count": 53,
   "metadata": {},
   "outputs": [
    {
     "name": "stdout",
     "output_type": "stream",
     "text": [
      "Valor máximo de poblacion total según datos reales: 18200851\n"
     ]
    }
   ],
   "source": [
    "max_poblacion_total_datos_reales = datos_reales['poblacion_total'].max()\n",
    "print(\"Valor máximo de poblacion total según datos reales:\", max_poblacion_total_datos_reales)"
   ]
  },
  {
   "cell_type": "code",
   "execution_count": 54,
   "metadata": {},
   "outputs": [
    {
     "name": "stdout",
     "output_type": "stream",
     "text": [
      "Valor mínimo de poblacion total según datos reales: 131661\n"
     ]
    }
   ],
   "source": [
    "min_poblacion_total_datos_reales = datos_reales['poblacion_total'].min()\n",
    "print(\"Valor mínimo de poblacion total según datos reales:\", min_poblacion_total_datos_reales)"
   ]
  },
  {
   "cell_type": "code",
   "execution_count": 55,
   "metadata": {},
   "outputs": [
    {
     "name": "stdout",
     "output_type": "stream",
     "text": [
      "Valor promedio de poblacion total según datos reales: 1833329.361111111\n"
     ]
    }
   ],
   "source": [
    "mean_poblacion_total_datos_reales = datos_reales['poblacion_total'].mean()\n",
    "print(\"Valor promedio de poblacion total según datos reales:\", mean_poblacion_total_datos_reales)"
   ]
  },
  {
   "cell_type": "code",
   "execution_count": 56,
   "metadata": {},
   "outputs": [
    {
     "name": "stdout",
     "output_type": "stream",
     "text": [
      "Valor máximo de poblacion total según datos futuros: 20503653\n"
     ]
    }
   ],
   "source": [
    "max_poblacion_total_datos_futuros = datos_futuros['poblacion_total'].max()\n",
    "print(\"Valor máximo de poblacion total según datos futuros:\", max_poblacion_total_datos_futuros)"
   ]
  },
  {
   "cell_type": "code",
   "execution_count": 57,
   "metadata": {},
   "outputs": [
    {
     "name": "stdout",
     "output_type": "stream",
     "text": [
      "Valor mínimo de poblacion total según datos futuros: 194926\n"
     ]
    }
   ],
   "source": [
    "min_poblacion_total_datos_futuros = datos_futuros['poblacion_total'].min()\n",
    "print(\"Valor mínimo de poblacion total según datos futuros:\", min_poblacion_total_datos_futuros)"
   ]
  },
  {
   "cell_type": "code",
   "execution_count": 58,
   "metadata": {},
   "outputs": [
    {
     "name": "stdout",
     "output_type": "stream",
     "text": [
      "Valor promedio de poblacion total según datos futuros: 2093431.8619791667\n"
     ]
    }
   ],
   "source": [
    "mean_poblacion_total_datos_futuros = datos_futuros['poblacion_total'].mean()\n",
    "print(\"Valor promedio de poblacion total según datos futuros:\", mean_poblacion_total_datos_futuros)"
   ]
  },
  {
   "cell_type": "code",
   "execution_count": 59,
   "metadata": {},
   "outputs": [
    {
     "name": "stdout",
     "output_type": "stream",
     "text": [
      "Valor máximo de hombres según datos reales: 8943682\n"
     ]
    }
   ],
   "source": [
    "max_poblacion_varones_datos_reales = datos_reales['poblacion_varones'].max()\n",
    "print(\"Valor máximo de hombres según datos reales:\", max_poblacion_varones_datos_reales)"
   ]
  },
  {
   "cell_type": "code",
   "execution_count": 60,
   "metadata": {},
   "outputs": [
    {
     "name": "stdout",
     "output_type": "stream",
     "text": [
      "Valor mínimo de hombres según datos reales: 67235\n"
     ]
    }
   ],
   "source": [
    "min_poblacion_varones_datos_reales = datos_reales['poblacion_varones'].min()\n",
    "print(\"Valor mínimo de hombres según datos reales:\", min_poblacion_varones_datos_reales)"
   ]
  },
  {
   "cell_type": "code",
   "execution_count": 61,
   "metadata": {},
   "outputs": [
    {
     "name": "stdout",
     "output_type": "stream",
     "text": [
      "Valor promedio de hombres según datos reales: 898873.4\n"
     ]
    }
   ],
   "source": [
    "mean_poblacion_varones_datos_reales = datos_reales['poblacion_varones'].mean()\n",
    "print(\"Valor promedio de hombres según datos reales:\", mean_poblacion_varones_datos_reales)"
   ]
  },
  {
   "cell_type": "code",
   "execution_count": 62,
   "metadata": {},
   "outputs": [
    {
     "name": "stdout",
     "output_type": "stream",
     "text": [
      "Valor máximo de mujeres según datos reales: 9257169\n"
     ]
    }
   ],
   "source": [
    "max_poblacion_mujeres_datos_reales = datos_reales['poblacion_mujeres'].max()\n",
    "print(\"Valor máximo de mujeres según datos reales:\", max_poblacion_mujeres_datos_reales)"
   ]
  },
  {
   "cell_type": "code",
   "execution_count": 63,
   "metadata": {},
   "outputs": [
    {
     "name": "stdout",
     "output_type": "stream",
     "text": [
      "Valor mínimo de mujeres según datos reales: 64426\n"
     ]
    }
   ],
   "source": [
    "min_poblacion_mujeres_datos_reales = datos_reales['poblacion_mujeres'].min()\n",
    "print(\"Valor mínimo de mujeres según datos reales:\", min_poblacion_mujeres_datos_reales)"
   ]
  },
  {
   "cell_type": "code",
   "execution_count": 64,
   "metadata": {},
   "outputs": [
    {
     "name": "stdout",
     "output_type": "stream",
     "text": [
      "Valor promedio de mujeres según datos reales: 934455.9611111111\n"
     ]
    }
   ],
   "source": [
    "mean_poblacion_mujeres_datos_reales = datos_reales['poblacion_mujeres'].mean()\n",
    "print(\"Valor promedio de mujeres según datos reales:\", mean_poblacion_mujeres_datos_reales)"
   ]
  },
  {
   "cell_type": "code",
   "execution_count": 65,
   "metadata": {},
   "outputs": [
    {
     "name": "stdout",
     "output_type": "stream",
     "text": [
      "Valor máximo de hombres según datos futuros: 10118438\n"
     ]
    }
   ],
   "source": [
    "max_poblacion_varones_datos_futuros = datos_futuros['poblacion_varones'].max()\n",
    "print(\"Valor máximo de hombres según datos futuros:\", max_poblacion_varones_datos_futuros)"
   ]
  },
  {
   "cell_type": "code",
   "execution_count": 66,
   "metadata": {},
   "outputs": [
    {
     "name": "stdout",
     "output_type": "stream",
     "text": [
      "Valor mínimo de hombres según datos futuros: 99244\n"
     ]
    }
   ],
   "source": [
    "min_poblacion_varones_datos_futuros = datos_futuros['poblacion_varones'].min()\n",
    "print(\"Valor mínimo de hombres según datos futuros:\", min_poblacion_varones_datos_futuros)"
   ]
  },
  {
   "cell_type": "code",
   "execution_count": 67,
   "metadata": {},
   "outputs": [
    {
     "name": "stdout",
     "output_type": "stream",
     "text": [
      "Valor promedio de hombres según datos futuros: 1031118.765625\n"
     ]
    }
   ],
   "source": [
    "mean_poblacion_varones_datos_futuros = datos_futuros['poblacion_varones'].mean()\n",
    "print(\"Valor promedio de hombres según datos futuros:\", mean_poblacion_varones_datos_futuros)"
   ]
  },
  {
   "cell_type": "code",
   "execution_count": 68,
   "metadata": {},
   "outputs": [
    {
     "name": "stdout",
     "output_type": "stream",
     "text": [
      "Valor máximo de mujeres según datos futuros: 10385215\n"
     ]
    }
   ],
   "source": [
    "max_poblacion_mujeres_datos_futuros = datos_futuros['poblacion_mujeres'].max()\n",
    "print(\"Valor máximo de mujeres según datos futuros:\", max_poblacion_mujeres_datos_futuros)"
   ]
  },
  {
   "cell_type": "code",
   "execution_count": 69,
   "metadata": {},
   "outputs": [
    {
     "name": "stdout",
     "output_type": "stream",
     "text": [
      "Valor mínimo de mujeres según datos futuros: 95682\n"
     ]
    }
   ],
   "source": [
    "min_poblacion_mujeres_datos_futuros = datos_futuros['poblacion_mujeres'].min()\n",
    "print(\"Valor mínimo de mujeres según datos futuros:\", min_poblacion_mujeres_datos_futuros)"
   ]
  },
  {
   "cell_type": "code",
   "execution_count": 70,
   "metadata": {},
   "outputs": [
    {
     "name": "stdout",
     "output_type": "stream",
     "text": [
      "Valor promedio de mujeres según datos futuros: 1062313.0963541667\n"
     ]
    }
   ],
   "source": [
    "mean_poblacion_mujeres_datos_futuros = datos_futuros['poblacion_mujeres'].mean()\n",
    "print(\"Valor promedio de mujeres según datos futuros:\", mean_poblacion_mujeres_datos_futuros)"
   ]
  },
  {
   "cell_type": "code",
   "execution_count": 71,
   "metadata": {},
   "outputs": [
    {
     "name": "stdout",
     "output_type": "stream",
     "text": [
      "Valor promedio de la densidad de población según datos reales: 652.2518590200689\n"
     ]
    }
   ],
   "source": [
    "mean_densidad_datos_reales = datos_reales['densidad_de_poblacion'].mean()\n",
    "print(\"Valor promedio de la densidad de población según datos reales:\", mean_densidad_datos_reales)"
   ]
  },
  {
   "cell_type": "code",
   "execution_count": 72,
   "metadata": {},
   "outputs": [
    {
     "name": "stdout",
     "output_type": "stream",
     "text": [
      "Valor promedio de la densidad de población según datos futuros: 657.0795773851235\n"
     ]
    }
   ],
   "source": [
    "mean_densidad_datos_futuros = datos_futuros['densidad_de_poblacion'].mean()\n",
    "print(\"Valor promedio de la densidad de población según datos futuros:\", mean_densidad_datos_futuros)"
   ]
  },
  {
   "cell_type": "code",
   "execution_count": 73,
   "metadata": {},
   "outputs": [
    {
     "name": "stdout",
     "output_type": "stream",
     "text": [
      "Valor máximo de la densidad de población según datos reales: 15427.415\n"
     ]
    }
   ],
   "source": [
    "max_densidad_datos_reales = datos_reales['densidad_de_poblacion'].max()\n",
    "print(\"Valor máximo de la densidad de población según datos reales:\", max_densidad_datos_reales)"
   ]
  },
  {
   "cell_type": "code",
   "execution_count": 74,
   "metadata": {},
   "outputs": [
    {
     "name": "stdout",
     "output_type": "stream",
     "text": [
      "Valor máximo de la densidad de población según datos futuros: 15437.17\n"
     ]
    }
   ],
   "source": [
    "max_densidad_datos_futuros = datos_futuros['densidad_de_poblacion'].max()\n",
    "print(\"Valor máximo de la densidad de población según datos futuros:\", max_densidad_datos_futuros)"
   ]
  },
  {
   "cell_type": "code",
   "execution_count": 75,
   "metadata": {},
   "outputs": [
    {
     "name": "stdout",
     "output_type": "stream",
     "text": [
      "Valor promedio de hogares según datos reales: 507153.125\n"
     ]
    }
   ],
   "source": [
    "mean_hogares_datos_reales = datos_reales['hogares'].mean()\n",
    "print(\"Valor promedio de hogares según datos reales:\", mean_hogares_datos_reales)"
   ]
  },
  {
   "cell_type": "code",
   "execution_count": 76,
   "metadata": {},
   "outputs": [
    {
     "name": "stdout",
     "output_type": "stream",
     "text": [
      "Valor promedio de hogares según datos futuros: 507153.125\n"
     ]
    }
   ],
   "source": [
    "mean_hogares_datos_futuros = datos_futuros['hogares'].mean()\n",
    "print(\"Valor promedio de hogares según datos futuros:\", mean_hogares_datos_futuros)"
   ]
  },
  {
   "cell_type": "code",
   "execution_count": 77,
   "metadata": {},
   "outputs": [
    {
     "name": "stdout",
     "output_type": "stream",
     "text": [
      "Valor promedio de viviendas según datos reales: 575505.2083333334\n"
     ]
    }
   ],
   "source": [
    "mean_viviendas_datos_reales = datos_reales['viviendas_particulares'].mean()\n",
    "print(\"Valor promedio de viviendas según datos reales:\", mean_viviendas_datos_reales)"
   ]
  },
  {
   "cell_type": "code",
   "execution_count": 78,
   "metadata": {},
   "outputs": [
    {
     "name": "stdout",
     "output_type": "stream",
     "text": [
      "Valor promedio de viviendas según datos futuros: 575505.2083333334\n"
     ]
    }
   ],
   "source": [
    "mean_viviendas_datos_futuros = datos_futuros['viviendas_particulares'].mean()\n",
    "print(\"Valor promedio de viviendas según datos futuros:\", mean_viviendas_datos_futuros)"
   ]
  },
  {
   "cell_type": "markdown",
   "metadata": {},
   "source": [
    "API 3"
   ]
  },
  {
   "cell_type": "code",
   "execution_count": 79,
   "metadata": {},
   "outputs": [],
   "source": [
    "import matplotlib.pyplot as plt\n"
   ]
  },
  {
   "cell_type": "code",
   "execution_count": 80,
   "metadata": {},
   "outputs": [],
   "source": [
    "import seaborn as sns"
   ]
  },
  {
   "cell_type": "code",
   "execution_count": null,
   "metadata": {},
   "outputs": [
    {
     "data": {
      "image/png": "[encoded data removed]",
      "text/plain": [
       "<Figure size 1000x600 with 1 Axes>"
      ]
     },
     "metadata": {},
     "output_type": "display_data"
    }
   ],
   "source": [
    "# Agrupar por año y sumar las poblaciones\n",
    "pop_by_year = poblacion.groupby(\"anio\")[[\"poblacion_varones\", \"poblacion_mujeres\"]].sum().reset_index()\n",
    "\n",
    "# Plot\n",
    "plt.figure(figsize=(10, 6))\n",
    "sns.lineplot(data=pop_by_year, x=\"anio\", y=\"poblacion_varones\", label=\"Varones\")\n",
    "sns.lineplot(data=pop_by_year, x=\"anio\", y=\"poblacion_mujeres\", label=\"Mujeres\")\n",
    "plt.title(\"Población por género a lo largo del tiempo\")\n",
    "plt.xlabel(\"Año\")\n",
    "plt.ylabel(\"Población\")\n",
    "plt.legend()\n",
    "plt.grid(True)\n",
    "plt.tight_layout()\n",
    "plt.show()"
   ]
  },
  {
   "cell_type": "markdown",
   "metadata": {},
   "source": [
    "Este gráfico de líneas muestra la evolución de la población de hombres y mujeres desde 2010 hasta 2040. Se observa que ambas poblaciones crecen de manera constante, con la población femenina siempre superando a la masculina.\n",
    "- La tendencia general indica un crecimiento continuo en la población de ambos géneros.\n",
    "- La población de mujeres es consistentemente mayor que la de los hombres a lo largo de los años.\n",
    "- El uso de líneas en el gráfico facilita la comparación de ambos grupos y resalta las diferencias de magnitud entre poblaciones.\n",
    "Conclusión: El gráfico ilustra una tendencia de crecimiento poblacional, con una predominancia femenina constante. Estos datos pueden ser útiles para estudios demográficos, planificación social y proyecciones económicas."
   ]
  },
  {
   "cell_type": "code",
   "execution_count": 82,
   "metadata": {},
   "outputs": [
    {
     "name": "stderr",
     "output_type": "stream",
     "text": [
      "C:\\Users\\yacor\\AppData\\Local\\Temp\\ipykernel_18764\\4095152739.py:10: FutureWarning: \n",
      "\n",
      "Passing `palette` without assigning `hue` is deprecated and will be removed in v0.14.0. Assign the `y` variable to `hue` and set `legend=False` for the same effect.\n",
      "\n",
      "  sns.barplot(data=df_sorted, x=\"densidad_de_poblacion\", y=\"provincia\", palette=\"viridis\")\n"
     ]
    },
    {
     "data": {
      "image/png": "[encoded data removed]",
      "text/plain": [
       "<Figure size 1200x800 with 1 Axes>"
      ]
     },
     "metadata": {},
     "output_type": "display_data"
    }
   ],
   "source": [
    "# Obtener el último año disponible\n",
    "latest_year = poblacion_superficie[\"anio\"].max()\n",
    "df_latest = poblacion_superficie[poblacion_superficie[\"anio\"] == latest_year]\n",
    "\n",
    "# Ordenar por densidad\n",
    "df_sorted = df_latest.sort_values(\"densidad_de_poblacion\", ascending=False)\n",
    "\n",
    "# Plot\n",
    "plt.figure(figsize=(12, 8))\n",
    "sns.barplot(data=df_sorted, x=\"densidad_de_poblacion\", y=\"provincia\", palette=\"viridis\")\n",
    "plt.title(f\"Densidad de población por provincia - Año {latest_year}\")\n",
    "plt.xlabel(\"Densidad de población (hab/km²)\")\n",
    "plt.ylabel(\"Provincia\")\n",
    "plt.tight_layout()\n",
    "plt.show()\n"
   ]
  },
  {
   "cell_type": "markdown",
   "metadata": {},
   "source": [
    "Este gráfico de barras horizontales muestra la densidad de población (habitantes por km²) en distintas provincias de Argentina proyectadas para el año 2040. La escala en el eje x va de 0 a 15,000 hab/km², y el eje y enumera las provincias.\n",
    "- Capital Federal tiene, por mucho, la mayor densidad poblacional, con una barra significativamente más larga que el resto. Esto es esperable debido a su alta concentración urbana y limitada superficie territorial.\n",
    "- Provincias como Tucumán y Buenos Aires también presentan densidades relativamente altas, lo que sugiere su papel como centros urbanos densamente poblados.\n",
    "- En contraste, provincias como Tierra del Fuego, Santa Cruz y La Pampa tienen densidades mucho menores, probablemente debido a sus amplias extensiones de territorio y menor concentración de población.\n",
    "- La comparación entre provincias resalta las diferencias en distribución poblacional, donde las zonas más urbanizadas presentan mayor densidad mientras que las regiones menos pobladas tienen una distribución más dispersa.\n",
    "Conclusión: Este gráfico ayuda a visualizar cómo la concentración de población varía significativamente entre provincias.\n"
   ]
  },
  {
   "cell_type": "code",
   "execution_count": 90,
   "metadata": {},
   "outputs": [
    {
     "name": "stderr",
     "output_type": "stream",
     "text": [
      "C:\\Users\\yacor\\AppData\\Local\\Temp\\ipykernel_18764\\3432531049.py:10: FutureWarning: \n",
      "\n",
      "Passing `palette` without assigning `hue` is deprecated and will be removed in v0.14.0. Assign the `y` variable to `hue` and set `legend=False` for the same effect.\n",
      "\n",
      "  sns.barplot(data=df_sorted, x=\"poblacion_total\", y=\"provincia\", palette=\"coolwarm\")\n"
     ]
    },
    {
     "data": {
      "image/png": "[encoded data removed]",
      "text/plain": [
       "<Figure size 1200x800 with 1 Axes>"
      ]
     },
     "metadata": {},
     "output_type": "display_data"
    }
   ],
   "source": [
    "# Filtrar el último año disponible\n",
    "latest_year = poblacion_superficie[\"anio\"].max()\n",
    "df_latest = poblacion_superficie[poblacion_superficie[\"anio\"] == latest_year]\n",
    "\n",
    "# Ordenar por población total\n",
    "df_sorted = df_latest.sort_values(\"poblacion_total\", ascending=False)\n",
    "\n",
    "# Crear el gráfico de barras\n",
    "plt.figure(figsize=(12, 8))\n",
    "sns.barplot(data=df_sorted, x=\"poblacion_total\", y=\"provincia\", palette=\"coolwarm\")\n",
    "plt.title(f\"Población total por provincia - Año {latest_year}\")\n",
    "plt.xlabel(\"Población total\")\n",
    "plt.ylabel(\"Provincia\")\n",
    "plt.tight_layout()\n",
    "plt.show()"
   ]
  },
  {
   "cell_type": "markdown",
   "metadata": {},
   "source": [
    "El gráfico de barras muestra la población total por provincia en el último año disponible.\n",
    "Eje X: Representa la población total de cada provincia.\n",
    "Eje Y: Enumera las provincias ordenadas de mayor a menor población.\n",
    "Colores: Utiliza una paleta de colores para destacar las diferencias entre provincias.\n",
    "Las provincias con mayor población tienen barras más largas, destacando su importancia demográfica.\n",
    "Las provincias con menor población tienen barras más cortas, indicando una menor densidad o tamaño poblacional.\n",
    "Este gráfico permite identificar rápidamente las provincias más y menos pobladas, lo que puede ser útil para la planificación de recursos y políticas públicas.\n",
    "Conclusión: El gráfico facilita la comparación visual de la población entre provincias, destacando las disparidades demográficas."
   ]
  },
  {
   "cell_type": "code",
   "execution_count": 83,
   "metadata": {},
   "outputs": [
    {
     "data": {
      "image/png": "[encoded data removed]",
      "text/plain": [
       "<Figure size 800x600 with 1 Axes>"
      ]
     },
     "metadata": {},
     "output_type": "display_data"
    }
   ],
   "source": [
    "# Usar el mismo año para comparar\n",
    "plt.figure(figsize=(8, 6))\n",
    "sns.scatterplot(\n",
    "    data=df_latest,\n",
    "    x=\"superficie_km2\",\n",
    "    y=\"poblacion_total\",\n",
    "    hue=\"provincia\",\n",
    "    palette=\"tab20\",\n",
    "    legend=False\n",
    ")\n",
    "plt.title(\"Relación entre superficie y población total\")\n",
    "plt.xlabel(\"Superficie (km²)\")\n",
    "plt.ylabel(\"Población total\")\n",
    "plt.grid(True)\n",
    "plt.tight_layout()\n",
    "plt.show()\n"
   ]
  },
  {
   "cell_type": "markdown",
   "metadata": {},
   "source": [
    "Este gráfico de dispersión muestra la relación entre la superficie en km² y la población total de diferentes regiones. \n",
    "- Distribución principal: La mayoría de las regiones tienen una superficie pequeña y una población relativamente baja, mostrando una tendencia común en el conjunto de datos.\n",
    "- Dos valores atípicos:\n",
    "    - Un punto representa una región con gran extensión territorial pero baja población, lo que podría indicar zonas rurales o áreas con condiciones geográficas difíciles.\n",
    "    - Otro punto representa una región con moderada superficie pero población muy alta, probablemente una ciudad densamente poblada.\n",
    "- La tendencia en el gráfico sugiere que, aunque una mayor superficie puede estar asociada con una mayor población, hay casos donde la densidad poblacional rompe esa relación directa.\n",
    "Conclusión: Este gráfico ayuda a visualizar cómo la distribución de la población no depende exclusivamente del tamaño del territorio, y puede ser influenciada por factores como urbanización, geografía y accesibilidad.\n"
   ]
  },
  {
   "cell_type": "code",
   "execution_count": 87,
   "metadata": {},
   "outputs": [
    {
     "data": {
      "image/png": "[encoded data removed]",
      "text/plain": [
       "<Figure size 800x600 with 1 Axes>"
      ]
     },
     "metadata": {},
     "output_type": "display_data"
    }
   ],
   "source": [
    "\n",
    "plt.figure(figsize=(8, 6))\n",
    "sns.scatterplot(\n",
    "    data=hogares_viviendas,\n",
    "    x=\"hogares\",\n",
    "    y=\"viviendas_particulares_habitadas\",\n",
    "    hue=\"provincia\",\n",
    "    palette=\"tab20\",\n",
    "    legend=False\n",
    ")\n",
    "plt.title(\"Relación entre hogares y viviendas habitadas\")\n",
    "plt.xlabel(\"Cantidad de hogares\")\n",
    "plt.ylabel(\"Viviendas particulares habitadas\")\n",
    "plt.grid(True)\n",
    "plt.tight_layout()\n",
    "plt.show()\n"
   ]
  },
  {
   "cell_type": "markdown",
   "metadata": {},
   "source": [
    "Este gráfico de dispersión representa la relación entre la cantidad de hogares y las viviendas particulares habitadas:\n",
    "- La mayoría de los puntos están agrupados cerca del origen, lo que sugiere que la mayoría de las localidades tienen un número relativamente bajo de hogares y viviendas.\n",
    "- Hay un punto fuera del grupo, con valores significativamente mayores de hogares y viviendas habitadas, posiblemente representando una ciudad o área densamente poblada.\n",
    "- La tendencia indica una relación lineal entre hogares y viviendas habitadas, lo cual es esperable, ya que cada hogar ocupa una vivienda en la mayoría de los casos.\n",
    "- La dispersión de los datos puede ayudar a identificar áreas con mayor concentración de población y aquellas con una distribución más homogénea.\n",
    "Conclusión: El gráfico sugiere que el crecimiento en el número de hogares tiende a estar directamente vinculado con el crecimiento en viviendas habitadas, aunque algunos puntos pueden representar excepciones o localidades con características particulares.\n"
   ]
  },
  {
   "cell_type": "code",
   "execution_count": null,
   "metadata": {},
   "outputs": [
    {
     "data": {
      "image/png": "[encoded data removed]",
      "text/plain": [
       "<Figure size 1000x600 with 1 Axes>"
      ]
     },
     "metadata": {},
     "output_type": "display_data"
    }
   ],
   "source": [
    "vida_long = esperanza_de_vida.melt(id_vars=[\"provincia\", \"anio\"], value_vars=[\"mujeres\", \"varones\"],\n",
    "                                var_name=\"genero\", value_name=\"esperanza_de_vida\")\n",
    "\n",
    "plt.figure(figsize=(10, 6))\n",
    "sns.boxplot(data=vida_long, x=\"genero\", y=\"esperanza_de_vida\")\n",
    "plt.title(\"Esperanza de vida por género\")\n",
    "plt.xlabel(\"Género\")\n",
    "plt.ylabel(\"Esperanza de vida (años)\")\n",
    "plt.grid(True)\n",
    "plt.tight_layout()\n",
    "plt.show()"
   ]
  },
  {
   "cell_type": "markdown",
   "metadata": {},
   "source": [
    "- La mediana de esperanza de vida es más alta en mujeres (alrededor de 83 años) en comparación con los hombres (aproximadamente 78 años).\n",
    "- El rango intercuartílico (IQR) sugiere que la mayoría de las mujeres viven entre 82 y 84 años, mientras que los hombres entre 76 y 80 años.\n",
    "- Los valores extremos indican que algunos hombres pueden tener una esperanza de vida tan baja como 72 años y tan alta como 82 años, mientras que en mujeres el rango va desde 78 hasta 86 años.\n",
    "- Se observa una diferencia clara entre géneros, lo que puede estar influenciado por factores biológicos, hábitos de vida y condiciones sociales.\n",
    "Conclusión: Este gráfico evidencia que las mujeres tienden a vivir más que los hombres, lo que podría ser un punto de interés para estudios de salud pública y análisis demográficos\n"
   ]
  },
  {
   "cell_type": "code",
   "execution_count": null,
   "metadata": {},
   "outputs": [],
   "source": []
  }
 ],
 "metadata": {
  "kernelspec": {
   "display_name": "Python 3",
   "language": "python",
   "name": "python3"
  },
  "language_info": {
   "codemirror_mode": {
    "name": "ipython",
    "version": 3
   },
   "file_extension": ".py",
   "mimetype": "text/x-python",
   "name": "python",
   "nbconvert_exporter": "python",
   "pygments_lexer": "ipython3",
   "version": "3.13.3"
  }
 },
 "nbformat": 4,
 "nbformat_minor": 2
}
